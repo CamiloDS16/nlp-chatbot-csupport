{
 "cells": [
  {
   "attachments": {},
   "cell_type": "markdown",
   "metadata": {},
   "source": [
    "### Preprocessing and Modeling: Sentiment Analysis For Customer Interactions In X (Formerly Twitter)\n",
    "\n",
    "This notebook is structured to guide through the preprocessing and modeling stages of a sentiment analysis project. The primary objective is to categorize X (formerly Twitter) customer support interactions into distinct sentiment classes. This involves transforming cleaned tweet data for machine learning applications and performing sentiment analysis to extract meaningful business insights.\n",
    "\n",
    "#### Preprocessing\n",
    "- **Objective**: Ready the cleaned dataset for detailed sentiment analysis and feature extraction.\n",
    "- **Key Steps**:\n",
    "  - Application of advanced NLP techniques like lemmatization and removal of stopwords to refine the text data.\n",
    "  - Execution of feature engineering to extract significant attributes from the data, including text length, frequency of product mentions, and sentiment scores.\n",
    "  - Development of additional derived features such as part-of-speech tags and named entity recognition to enhance the dataset's richness.\n",
    "\n",
    "#### Feature Extraction and Selection\n",
    "- **Objective**: Extract and identify key features for the sentiment analysis model.\n",
    "- **Methodology**:\n",
    "  - Employment of TF-IDF vectorization to numerically represent text data, highlighting word significance within the dataset.\n",
    "  - Incorporation of count-based features like noun and adjective counts, adding depth to the model's understanding.\n",
    "  - Selection of a diversified set of text-based and derived features to form a comprehensive input for the model.\n",
    "\n",
    "#### Model Building and Evaluation\n",
    "- **Objective**: Develop and evaluate models for classifying tweets into sentiment categories.\n",
    "- **Approach**:\n",
    "  - Exploration of various machine learning models including Logistic Regression, Support Vector Machine, Random Forest, and Gradient Boosting Machines.\n",
    "  - Assessment of model performance using metrics such as accuracy, precision, recall, and F1-score to gauge effectiveness.\n",
    "  - Optimization of model parameters and feature selection to enhance accuracy and performance.\n",
    "\n",
    "#### Sentiment Classification\n",
    "- **Objective**: Precise classification of customer interactions into positive, negative, or neutral sentiments.\n",
    "- **Details**:\n",
    "  - Integration of trained models for predicting sentiment labels on new data.\n",
    "  - Analysis of model predictions to gain insights into customer sentiment trends and brand performance.\n",
    "\n",
    "#### Final Model Selection and Deployment Considerations\n",
    "- **Objective**: Identify the most effective model and plan its deployment.\n",
    "- **Strategy**:\n",
    "  - Comparison of different models to select the most suitable one for sentiment classification.\n",
    "  - Discussion of potential deployment methodologies, including options for real-time analysis and integration within customer support frameworks.\n",
    "\n",
    "This notebook underscores the significance of meticulous data preparation, strategic feature engineering, and judicious model selection in sentiment analysis, aiming to showcase advanced data science proficiency and a pragmatic approach to addressing real-world problems."
   ]
  },
  {
   "cell_type": "code",
   "execution_count": 1,
   "metadata": {},
   "outputs": [],
   "source": [
    "import sys\n",
    "sys.path.append('../scripts/')"
   ]
  },
  {
   "cell_type": "code",
   "execution_count": 2,
   "metadata": {},
   "outputs": [],
   "source": [
    "# imports for processing\n",
    "import logging\n",
    "import pandas as pd\n",
    "import numpy as np\n",
    "from sklearn.feature_extraction.text import TfidfVectorizer\n",
    "import nltk\n",
    "import spacy\n",
    "from nltk.sentiment import SentimentIntensityAnalyzer\n",
    "from sklearn.feature_extraction.text import TfidfVectorizer\n",
    "from scipy.sparse import hstack"
   ]
  },
  {
   "cell_type": "code",
   "execution_count": 3,
   "metadata": {},
   "outputs": [],
   "source": [
    "# imports for modeling\n",
    "from sklearn.linear_model import LogisticRegression\n",
    "from sklearn.metrics import classification_report, accuracy_score\n",
    "from sklearn.svm import SVC\n",
    "from sklearn.ensemble import RandomForestClassifier\n",
    "from xgboost import XGBClassifier\n",
    "from sklearn.model_selection import StratifiedKFold, cross_validate\n",
    "from sklearn.model_selection import RandomizedSearchCV\n",
    "from joblib import load, dump\n",
    "import pickle\n",
    "from sklearn.preprocessing import LabelEncoder\n",
    "import logging\n",
    "import warnings\n",
    "from utils import *\n",
    "from sklearn.model_selection import train_test_split"
   ]
  },
  {
   "cell_type": "code",
   "execution_count": 4,
   "metadata": {},
   "outputs": [],
   "source": [
    "# setup logging\n",
    "logging.basicConfig(level=logging.INFO, format='%(asctime)s - %(levelname)s - %(message)s')\n",
    "# set up spacy \n",
    "nlp = spacy.load('en_core_web_sm')"
   ]
  },
  {
   "attachments": {},
   "cell_type": "markdown",
   "metadata": {},
   "source": [
    "#### Loading Cleaned Data:"
   ]
  },
  {
   "cell_type": "code",
   "execution_count": 5,
   "metadata": {},
   "outputs": [
    {
     "name": "stderr",
     "output_type": "stream",
     "text": [
      "2023-12-20 20:54:48,857 - INFO - Starting execution of load_data\n",
      "2023-12-20 20:54:49,482 - INFO - Data loading completed successfully\n",
      "2023-12-20 20:54:49,485 - INFO - Data loaded successfully\n"
     ]
    }
   ],
   "source": [
    "try: \n",
    "    file_path = '../data/interim/cleaned_data.csv'\n",
    "    df = load_data(file_path=file_path)\n",
    "    logging.info(\"Data loaded successfully\")\n",
    "except Exception as e:\n",
    "    logging.error(f\"Error while loading the dataset: {e}\")"
   ]
  },
  {
   "cell_type": "code",
   "execution_count": 6,
   "metadata": {},
   "outputs": [
    {
     "data": {
      "text/html": [
       "<div>\n",
       "<style scoped>\n",
       "    .dataframe tbody tr th:only-of-type {\n",
       "        vertical-align: middle;\n",
       "    }\n",
       "\n",
       "    .dataframe tbody tr th {\n",
       "        vertical-align: top;\n",
       "    }\n",
       "\n",
       "    .dataframe thead th {\n",
       "        text-align: right;\n",
       "    }\n",
       "</style>\n",
       "<table border=\"1\" class=\"dataframe\">\n",
       "  <thead>\n",
       "    <tr style=\"text-align: right;\">\n",
       "      <th></th>\n",
       "      <th>tweet_id</th>\n",
       "      <th>author_id</th>\n",
       "      <th>created_at</th>\n",
       "      <th>text</th>\n",
       "      <th>response_tweet_id</th>\n",
       "      <th>in_response_to_tweet_id</th>\n",
       "      <th>cleaned_text</th>\n",
       "      <th>sentiment</th>\n",
       "      <th>message_length</th>\n",
       "    </tr>\n",
       "  </thead>\n",
       "  <tbody>\n",
       "    <tr>\n",
       "      <th>0</th>\n",
       "      <td>2</td>\n",
       "      <td>115712</td>\n",
       "      <td>2017-10-31 22:11:45</td>\n",
       "      <td>@sprintcare and how do you propose we do that</td>\n",
       "      <td>NaN</td>\n",
       "      <td>1.0</td>\n",
       "      <td>and how do you propose we do that</td>\n",
       "      <td>0.0000</td>\n",
       "      <td>33</td>\n",
       "    </tr>\n",
       "    <tr>\n",
       "      <th>1</th>\n",
       "      <td>3</td>\n",
       "      <td>115712</td>\n",
       "      <td>2017-10-31 22:08:27</td>\n",
       "      <td>@sprintcare I have sent several private messag...</td>\n",
       "      <td>1</td>\n",
       "      <td>4.0</td>\n",
       "      <td>i have sent several private messages and no on...</td>\n",
       "      <td>-0.2960</td>\n",
       "      <td>70</td>\n",
       "    </tr>\n",
       "    <tr>\n",
       "      <th>2</th>\n",
       "      <td>5</td>\n",
       "      <td>115712</td>\n",
       "      <td>2017-10-31 21:49:35</td>\n",
       "      <td>@sprintcare I did.</td>\n",
       "      <td>4</td>\n",
       "      <td>6.0</td>\n",
       "      <td>i did</td>\n",
       "      <td>0.0000</td>\n",
       "      <td>5</td>\n",
       "    </tr>\n",
       "    <tr>\n",
       "      <th>3</th>\n",
       "      <td>8</td>\n",
       "      <td>115712</td>\n",
       "      <td>2017-10-31 21:45:10</td>\n",
       "      <td>@sprintcare is the worst customer service</td>\n",
       "      <td>9,6,10</td>\n",
       "      <td>NaN</td>\n",
       "      <td>is the worst customer service</td>\n",
       "      <td>-0.6249</td>\n",
       "      <td>29</td>\n",
       "    </tr>\n",
       "    <tr>\n",
       "      <th>4</th>\n",
       "      <td>12</td>\n",
       "      <td>115713</td>\n",
       "      <td>2017-10-31 22:04:47</td>\n",
       "      <td>@sprintcare You gonna magically change your co...</td>\n",
       "      <td>11,13,14</td>\n",
       "      <td>15.0</td>\n",
       "      <td>you gonna magically change your connectivity f...</td>\n",
       "      <td>0.0000</td>\n",
       "      <td>71</td>\n",
       "    </tr>\n",
       "  </tbody>\n",
       "</table>\n",
       "</div>"
      ],
      "text/plain": [
       "   tweet_id  author_id           created_at   \n",
       "0         2     115712  2017-10-31 22:11:45  \\\n",
       "1         3     115712  2017-10-31 22:08:27   \n",
       "2         5     115712  2017-10-31 21:49:35   \n",
       "3         8     115712  2017-10-31 21:45:10   \n",
       "4        12     115713  2017-10-31 22:04:47   \n",
       "\n",
       "                                                text response_tweet_id   \n",
       "0      @sprintcare and how do you propose we do that               NaN  \\\n",
       "1  @sprintcare I have sent several private messag...                 1   \n",
       "2                                 @sprintcare I did.                 4   \n",
       "3          @sprintcare is the worst customer service            9,6,10   \n",
       "4  @sprintcare You gonna magically change your co...          11,13,14   \n",
       "\n",
       "   in_response_to_tweet_id                                       cleaned_text   \n",
       "0                      1.0                  and how do you propose we do that  \\\n",
       "1                      4.0  i have sent several private messages and no on...   \n",
       "2                      6.0                                              i did   \n",
       "3                      NaN                      is the worst customer service   \n",
       "4                     15.0  you gonna magically change your connectivity f...   \n",
       "\n",
       "   sentiment  message_length  \n",
       "0     0.0000              33  \n",
       "1    -0.2960              70  \n",
       "2     0.0000               5  \n",
       "3    -0.6249              29  \n",
       "4     0.0000              71  "
      ]
     },
     "execution_count": 6,
     "metadata": {},
     "output_type": "execute_result"
    }
   ],
   "source": [
    "df.head()"
   ]
  },
  {
   "cell_type": "code",
   "execution_count": 7,
   "metadata": {},
   "outputs": [
    {
     "data": {
      "text/plain": [
       "cleaned_text\n",
       "<class 'str'>    100000\n",
       "Name: count, dtype: int64"
      ]
     },
     "execution_count": 7,
     "metadata": {},
     "output_type": "execute_result"
    }
   ],
   "source": [
    "# df['cleaned_text'].apply(type).value_counts()"
   ]
  },
  {
   "attachments": {},
   "cell_type": "markdown",
   "metadata": {},
   "source": [
    "#### Preprocessing:\n",
    "\n",
    "We will perform a series of steps to transform the data for modeling by doing this, we ensure the consistency on responses. We will also add some engineered features that will enhance the model for the response generation."
   ]
  },
  {
   "cell_type": "code",
   "execution_count": 7,
   "metadata": {},
   "outputs": [],
   "source": [
    "# converting cleaned_text values to str in case there are other datatypes\n",
    "df['cleaned_text'] = df['cleaned_text'].astype(str)\n",
    "\n",
    "# applying preprocessing\n",
    "df['processed'] = df['cleaned_text'].apply(preprocess_text)\n",
    "df['processed_text'] = df['processed'].apply(lambda x: x['processed_text'])\n",
    "df['pos_tags'] = df['processed'].apply(lambda x: x['pos_tags'])\n",
    "df['noun_count'] = df['pos_tags'].apply(lambda tags: tags.count('NOUN'))\n",
    "df['adj_count'] = df['pos_tags'].apply(lambda tags: tags.count('ADJ'))\n",
    "# text complexity\n",
    "df['text_complexity'] = df['processed_text'].apply(lambda x: len(set(x.split())) / len(x.split()) if x.split() else 0)"
   ]
  },
  {
   "cell_type": "code",
   "execution_count": 8,
   "metadata": {},
   "outputs": [
    {
     "name": "stderr",
     "output_type": "stream",
     "text": [
      "2023-12-20 21:08:59,878 - INFO - DataFrame saved successfully to ../data/processed/processed_data.csv\n"
     ]
    },
    {
     "name": "stdout",
     "output_type": "stream",
     "text": [
      "DataFrame saved at: ../data/processed/processed_data.csv\n"
     ]
    }
   ],
   "source": [
    "# saving preprocessed data to csv\n",
    "folder_path2 = '../data/'  # Adjust the path as needed\n",
    "file_name2 = 'processed/processed_data.csv'\n",
    "full_path2 = save_data(df, folder_path2, file_name2)\n",
    "\n",
    "if full_path2:\n",
    "    print(f\"DataFrame saved at: {full_path2}\")\n",
    "else:\n",
    "    print(\"Failed to save the DataFrame.\")"
   ]
  },
  {
   "cell_type": "code",
   "execution_count": 9,
   "metadata": {},
   "outputs": [],
   "source": [
    "# Apply NER\n",
    "df['entities'] = df['text'].apply(extract_entities)\n",
    "# count product mention\n",
    "df['product_mentions'] = df['entities'].apply(lambda ents: sum('PRODUCT' in ent for ent in ents))\n",
    "# text length in processed-lemmatized text\n",
    "df['text_length'] = df['processed_text'].apply(len)\n",
    "# brands count\n",
    "df['brand_mentions'] = df['entities'].apply(lambda ents: sum('ORG' in ent for ent in ents))"
   ]
  },
  {
   "cell_type": "code",
   "execution_count": 10,
   "metadata": {},
   "outputs": [
    {
     "name": "stderr",
     "output_type": "stream",
     "text": [
      "2023-12-20 21:20:41,397 - INFO - DataFrame saved successfully to ../data/processed/processed_data.csv\n"
     ]
    },
    {
     "name": "stdout",
     "output_type": "stream",
     "text": [
      "DataFrame saved at: ../data/processed/processed_data.csv\n"
     ]
    }
   ],
   "source": [
    "# saving preprocessed data to csv\n",
    "folder_path2 = '../data/'  # Adjust the path as needed\n",
    "file_name2 = 'processed/processed_data.csv'\n",
    "full_path2 = save_data(df, folder_path2, file_name2)\n",
    "\n",
    "if full_path2:\n",
    "    print(f\"DataFrame saved at: {full_path2}\")\n",
    "else:\n",
    "    print(\"Failed to save the DataFrame.\")"
   ]
  },
  {
   "cell_type": "code",
   "execution_count": 4,
   "metadata": {},
   "outputs": [
    {
     "name": "stderr",
     "output_type": "stream",
     "text": [
      "2023-12-12 10:25:52,083 - INFO - Starting execution of load_data\n",
      "2023-12-12 10:25:53,212 - INFO - Data loading completed successfully\n",
      "2023-12-12 10:25:53,217 - INFO - Data loaded successfully\n"
     ]
    }
   ],
   "source": [
    "try: \n",
    "    file_path = '../data/processed/processed_data.csv'\n",
    "    df = load_data(file_path=file_path)\n",
    "    logging.info(\"Data loaded successfully\")\n",
    "except Exception as e:\n",
    "    logging.error(f\"Error while loading the dataset: {e}\")"
   ]
  },
  {
   "cell_type": "code",
   "execution_count": 11,
   "metadata": {},
   "outputs": [],
   "source": [
    "# creating dependent variable\n",
    "def categorize_sentiment(score, pos_threshold=0.1, neg_threshold=-0.1):\n",
    "    \"\"\"\n",
    "    Categorize sentiment score into classes with error handling and logging.\n",
    "    Args:\n",
    "    score (float): Sentiment score.\n",
    "    pos_threshold (float): Threshold for positive sentiment.\n",
    "    neg_threshold (float): Threshold for negative sentiment.\n",
    "    Returns:\n",
    "    str: Sentiment category ('Positive', 'Negative', 'Neutral').\n",
    "    \"\"\"\n",
    "    try:\n",
    "        if score > pos_threshold:\n",
    "            sentiment = 'Positive'\n",
    "        elif score < neg_threshold:\n",
    "            sentiment = 'Negative'\n",
    "        else:\n",
    "            sentiment = 'Neutral'\n",
    "        return sentiment\n",
    "    except Exception as e:\n",
    "        logging.error(f\"Error in categorizing sentiment: {e}\")\n",
    "        return 'Neutral'\n",
    "\n",
    "# applying the function to create a derived sentiment column\n",
    "df['derived_sentiment'] = df['sentiment'].apply(categorize_sentiment)"
   ]
  },
  {
   "cell_type": "code",
   "execution_count": 12,
   "metadata": {},
   "outputs": [
    {
     "data": {
      "text/html": [
       "<div>\n",
       "<style scoped>\n",
       "    .dataframe tbody tr th:only-of-type {\n",
       "        vertical-align: middle;\n",
       "    }\n",
       "\n",
       "    .dataframe tbody tr th {\n",
       "        vertical-align: top;\n",
       "    }\n",
       "\n",
       "    .dataframe thead th {\n",
       "        text-align: right;\n",
       "    }\n",
       "</style>\n",
       "<table border=\"1\" class=\"dataframe\">\n",
       "  <thead>\n",
       "    <tr style=\"text-align: right;\">\n",
       "      <th></th>\n",
       "      <th>tweet_id</th>\n",
       "      <th>author_id</th>\n",
       "      <th>created_at</th>\n",
       "      <th>text</th>\n",
       "      <th>response_tweet_id</th>\n",
       "      <th>in_response_to_tweet_id</th>\n",
       "      <th>cleaned_text</th>\n",
       "      <th>sentiment</th>\n",
       "      <th>message_length</th>\n",
       "      <th>processed</th>\n",
       "      <th>processed_text</th>\n",
       "      <th>pos_tags</th>\n",
       "      <th>noun_count</th>\n",
       "      <th>adj_count</th>\n",
       "      <th>text_complexity</th>\n",
       "      <th>entities</th>\n",
       "      <th>product_mentions</th>\n",
       "      <th>text_length</th>\n",
       "      <th>brand_mentions</th>\n",
       "      <th>derived_sentiment</th>\n",
       "    </tr>\n",
       "  </thead>\n",
       "  <tbody>\n",
       "    <tr>\n",
       "      <th>0</th>\n",
       "      <td>2</td>\n",
       "      <td>115712</td>\n",
       "      <td>2017-10-31 22:11:45</td>\n",
       "      <td>@sprintcare and how do you propose we do that</td>\n",
       "      <td>NaN</td>\n",
       "      <td>1.0</td>\n",
       "      <td>and how do you propose we do that</td>\n",
       "      <td>0.0000</td>\n",
       "      <td>33</td>\n",
       "      <td>{'processed_text': 'propose', 'pos_tags': ['CC...</td>\n",
       "      <td>propose</td>\n",
       "      <td>[CCONJ, SCONJ, AUX, PRON, VERB, PRON, VERB, PRON]</td>\n",
       "      <td>0</td>\n",
       "      <td>0</td>\n",
       "      <td>1.0</td>\n",
       "      <td>[]</td>\n",
       "      <td>0</td>\n",
       "      <td>7</td>\n",
       "      <td>0</td>\n",
       "      <td>Neutral</td>\n",
       "    </tr>\n",
       "    <tr>\n",
       "      <th>1</th>\n",
       "      <td>3</td>\n",
       "      <td>115712</td>\n",
       "      <td>2017-10-31 22:08:27</td>\n",
       "      <td>@sprintcare I have sent several private messag...</td>\n",
       "      <td>1</td>\n",
       "      <td>4.0</td>\n",
       "      <td>i have sent several private messages and no on...</td>\n",
       "      <td>-0.2960</td>\n",
       "      <td>70</td>\n",
       "      <td>{'processed_text': 'send private message respo...</td>\n",
       "      <td>send private message respond usual</td>\n",
       "      <td>[PRON, AUX, VERB, ADJ, ADJ, NOUN, CCONJ, DET, ...</td>\n",
       "      <td>2</td>\n",
       "      <td>3</td>\n",
       "      <td>1.0</td>\n",
       "      <td>[]</td>\n",
       "      <td>0</td>\n",
       "      <td>34</td>\n",
       "      <td>0</td>\n",
       "      <td>Negative</td>\n",
       "    </tr>\n",
       "    <tr>\n",
       "      <th>2</th>\n",
       "      <td>5</td>\n",
       "      <td>115712</td>\n",
       "      <td>2017-10-31 21:49:35</td>\n",
       "      <td>@sprintcare I did.</td>\n",
       "      <td>4</td>\n",
       "      <td>6.0</td>\n",
       "      <td>i did</td>\n",
       "      <td>0.0000</td>\n",
       "      <td>5</td>\n",
       "      <td>{'processed_text': '', 'pos_tags': ['PRON', 'V...</td>\n",
       "      <td></td>\n",
       "      <td>[PRON, VERB]</td>\n",
       "      <td>0</td>\n",
       "      <td>0</td>\n",
       "      <td>0.0</td>\n",
       "      <td>[]</td>\n",
       "      <td>0</td>\n",
       "      <td>0</td>\n",
       "      <td>0</td>\n",
       "      <td>Neutral</td>\n",
       "    </tr>\n",
       "    <tr>\n",
       "      <th>3</th>\n",
       "      <td>8</td>\n",
       "      <td>115712</td>\n",
       "      <td>2017-10-31 21:45:10</td>\n",
       "      <td>@sprintcare is the worst customer service</td>\n",
       "      <td>9,6,10</td>\n",
       "      <td>NaN</td>\n",
       "      <td>is the worst customer service</td>\n",
       "      <td>-0.6249</td>\n",
       "      <td>29</td>\n",
       "      <td>{'processed_text': 'bad customer service', 'po...</td>\n",
       "      <td>bad customer service</td>\n",
       "      <td>[AUX, DET, ADJ, NOUN, NOUN]</td>\n",
       "      <td>2</td>\n",
       "      <td>1</td>\n",
       "      <td>1.0</td>\n",
       "      <td>[]</td>\n",
       "      <td>0</td>\n",
       "      <td>20</td>\n",
       "      <td>0</td>\n",
       "      <td>Negative</td>\n",
       "    </tr>\n",
       "    <tr>\n",
       "      <th>4</th>\n",
       "      <td>12</td>\n",
       "      <td>115713</td>\n",
       "      <td>2017-10-31 22:04:47</td>\n",
       "      <td>@sprintcare You gonna magically change your co...</td>\n",
       "      <td>11,13,14</td>\n",
       "      <td>15.0</td>\n",
       "      <td>you gonna magically change your connectivity f...</td>\n",
       "      <td>0.0000</td>\n",
       "      <td>71</td>\n",
       "      <td>{'processed_text': 'gon na magically change co...</td>\n",
       "      <td>gon na magically change connectivity family</td>\n",
       "      <td>[PRON, VERB, PART, ADV, VERB, PRON, NOUN, ADP,...</td>\n",
       "      <td>2</td>\n",
       "      <td>1</td>\n",
       "      <td>1.0</td>\n",
       "      <td>[]</td>\n",
       "      <td>0</td>\n",
       "      <td>43</td>\n",
       "      <td>0</td>\n",
       "      <td>Neutral</td>\n",
       "    </tr>\n",
       "  </tbody>\n",
       "</table>\n",
       "</div>"
      ],
      "text/plain": [
       "   tweet_id  author_id           created_at   \n",
       "0         2     115712  2017-10-31 22:11:45  \\\n",
       "1         3     115712  2017-10-31 22:08:27   \n",
       "2         5     115712  2017-10-31 21:49:35   \n",
       "3         8     115712  2017-10-31 21:45:10   \n",
       "4        12     115713  2017-10-31 22:04:47   \n",
       "\n",
       "                                                text response_tweet_id   \n",
       "0      @sprintcare and how do you propose we do that               NaN  \\\n",
       "1  @sprintcare I have sent several private messag...                 1   \n",
       "2                                 @sprintcare I did.                 4   \n",
       "3          @sprintcare is the worst customer service            9,6,10   \n",
       "4  @sprintcare You gonna magically change your co...          11,13,14   \n",
       "\n",
       "   in_response_to_tweet_id                                       cleaned_text   \n",
       "0                      1.0                  and how do you propose we do that  \\\n",
       "1                      4.0  i have sent several private messages and no on...   \n",
       "2                      6.0                                              i did   \n",
       "3                      NaN                      is the worst customer service   \n",
       "4                     15.0  you gonna magically change your connectivity f...   \n",
       "\n",
       "   sentiment  message_length   \n",
       "0     0.0000              33  \\\n",
       "1    -0.2960              70   \n",
       "2     0.0000               5   \n",
       "3    -0.6249              29   \n",
       "4     0.0000              71   \n",
       "\n",
       "                                           processed   \n",
       "0  {'processed_text': 'propose', 'pos_tags': ['CC...  \\\n",
       "1  {'processed_text': 'send private message respo...   \n",
       "2  {'processed_text': '', 'pos_tags': ['PRON', 'V...   \n",
       "3  {'processed_text': 'bad customer service', 'po...   \n",
       "4  {'processed_text': 'gon na magically change co...   \n",
       "\n",
       "                                processed_text   \n",
       "0                                      propose  \\\n",
       "1           send private message respond usual   \n",
       "2                                                \n",
       "3                         bad customer service   \n",
       "4  gon na magically change connectivity family   \n",
       "\n",
       "                                            pos_tags  noun_count  adj_count   \n",
       "0  [CCONJ, SCONJ, AUX, PRON, VERB, PRON, VERB, PRON]           0          0  \\\n",
       "1  [PRON, AUX, VERB, ADJ, ADJ, NOUN, CCONJ, DET, ...           2          3   \n",
       "2                                       [PRON, VERB]           0          0   \n",
       "3                        [AUX, DET, ADJ, NOUN, NOUN]           2          1   \n",
       "4  [PRON, VERB, PART, ADV, VERB, PRON, NOUN, ADP,...           2          1   \n",
       "\n",
       "   text_complexity entities  product_mentions  text_length  brand_mentions   \n",
       "0              1.0       []                 0            7               0  \\\n",
       "1              1.0       []                 0           34               0   \n",
       "2              0.0       []                 0            0               0   \n",
       "3              1.0       []                 0           20               0   \n",
       "4              1.0       []                 0           43               0   \n",
       "\n",
       "  derived_sentiment  \n",
       "0           Neutral  \n",
       "1          Negative  \n",
       "2           Neutral  \n",
       "3          Negative  \n",
       "4           Neutral  "
      ]
     },
     "execution_count": 12,
     "metadata": {},
     "output_type": "execute_result"
    }
   ],
   "source": [
    "# data validation check\n",
    "df.head()"
   ]
  },
  {
   "attachments": {},
   "cell_type": "markdown",
   "metadata": {},
   "source": [
    "#### Feature Engineering:\n",
    "\n",
    "We will be creating main features for modeling(TF-IDF features) with TfidfVectorizer. Then, we will add the engineered features created previously into a sparse matrix so that the structure can be input into the ML models that will be trained and evaluated for the task. In order to create the matrix we will employ hstack function from the module scipy."
   ]
  },
  {
   "cell_type": "code",
   "execution_count": 13,
   "metadata": {},
   "outputs": [],
   "source": [
    "df['processed_text'] = df['processed_text'].fillna('')\n",
    "\n",
    "# TF-IDF Vectorization\n",
    "try:\n",
    "    tfidf_vectorizer = TfidfVectorizer(max_features=1000)\n",
    "    X_tfidf = tfidf_vectorizer.fit_transform(df['processed_text'])\n",
    "# Combine TF-IDF with other features\n",
    "    additional_features = df[['noun_count', 'product_mentions', 'text_length', 'brand_mentions', 'adj_count', 'text_complexity']].values\n",
    "    X_combined = hstack([X_tfidf, additional_features])\n",
    "except Exception as e: \n",
    "    logging.error(f\"Error while performing TfidfVectorizer and/or combining features: {e}\")\n",
    "    raise"
   ]
  },
  {
   "attachments": {},
   "cell_type": "markdown",
   "metadata": {},
   "source": [
    "#### Splitting Data: Train & Test\n",
    "\n",
    "We will proceed to split the data into train and test so that we hold onto a set of the data to evaluate the models later on and avoid data leakage and biased models. "
   ]
  },
  {
   "cell_type": "code",
   "execution_count": 14,
   "metadata": {},
   "outputs": [
    {
     "name": "stderr",
     "output_type": "stream",
     "text": [
      "2023-12-20 21:31:38,304 - INFO - Data successfully split into train and test sets.\n",
      "2023-12-20 21:31:38,305 - INFO - Split data function applied successfully\n"
     ]
    }
   ],
   "source": [
    "try: \n",
    "    y = df['derived_sentiment']\n",
    "    \n",
    "    X_train, X_test, y_train, y_test = split_data(X_combined, y, test_size=0.3)\n",
    "    logging.info(\"Split data function applied successfully\")\n",
    "except Exception as e:\n",
    "    logging.error(f\"Error while splitting data: {e}\")\n",
    "    raise"
   ]
  },
  {
   "attachments": {},
   "cell_type": "markdown",
   "metadata": {},
   "source": [
    "#### Scaling features: \n",
    "\n",
    "Scaling is a crucial step before training a ML model to ensure the features are within the same mean and std. Below, we will extract the count-based features (features extracted previously and stacked horizontally with main feature: TF-IDF). Then, we will use MinMaxScaler to standardize them and finally stack them back with the main and already normalized TF-IDF features. "
   ]
  },
  {
   "cell_type": "code",
   "execution_count": 15,
   "metadata": {},
   "outputs": [
    {
     "name": "stderr",
     "output_type": "stream",
     "text": [
      "2023-12-20 21:37:09,323 - INFO - Count-based features scaled successfully\n"
     ]
    }
   ],
   "source": [
    "from sklearn.preprocessing import MaxAbsScaler\n",
    "\n",
    "# number of count-based features\n",
    "num_count_features = 6\n",
    "\n",
    "try: # Extract count-based features from the end of each row in X_train and X_test\n",
    "    X_train_counts = X_train[:, -num_count_features:]\n",
    "    X_test_counts = X_test[:, -num_count_features:]\n",
    "\n",
    "    # Normalize these features\n",
    "    scaler = MaxAbsScaler()\n",
    "    X_train_counts_scaled = scaler.fit_transform(X_train_counts)\n",
    "    X_test_counts_scaled = scaler.transform(X_test_counts)\n",
    "\n",
    "    # Recombine with the TF-IDF features\n",
    "    X_train_scaled = hstack([X_train[:, :-num_count_features], X_train_counts_scaled])\n",
    "    X_test_scaled = hstack([X_test[:, :-num_count_features], X_test_counts_scaled])\n",
    "    logging.info(\"Count-based features scaled successfully\")\n",
    "except Exception as e: \n",
    "    logging.error(f\"Error while scaling count-based features: {e}\")\n",
    "    raise"
   ]
  },
  {
   "cell_type": "code",
   "execution_count": 16,
   "metadata": {},
   "outputs": [],
   "source": [
    "# encoding y_train and y_test for XGBoost Modeling\n",
    "label_encoder = LabelEncoder()\n",
    "y_train_encoded = label_encoder.fit_transform(y_train)\n",
    "y_test_encoded = label_encoder.transform(y_test)"
   ]
  },
  {
   "attachments": {},
   "cell_type": "markdown",
   "metadata": {},
   "source": [
    "#### Saving Data: \n",
    "\n",
    "Below we will leverage the module joblib to save the train and test sets for future use. This step is to avoid repetitive processes and ensure scalability and seamlessly collaboration."
   ]
  },
  {
   "cell_type": "code",
   "execution_count": 17,
   "metadata": {},
   "outputs": [
    {
     "name": "stderr",
     "output_type": "stream",
     "text": [
      "2023-12-20 21:42:17,914 - INFO - X_train_scaled saved successfully at ../data/processed/X_train_scaled.joblib\n",
      "2023-12-20 21:42:17,917 - INFO - X_test_scaled saved successfully at ../data/processed/X_test_scaled.joblib\n",
      "2023-12-20 21:42:17,922 - INFO - y_train saved successfully at ../data/processed/y_train.joblib\n",
      "2023-12-20 21:42:17,927 - INFO - y_test saved successfully at ../data/processed/y_test.joblib\n",
      "2023-12-20 21:42:17,928 - INFO - y_train_encoded saved successfully at ../data/processed/y_train_encoded.joblib\n",
      "2023-12-20 21:42:17,930 - INFO - y_test_encoded saved successfully at ../data/processed/y_test_encoded.joblib\n"
     ]
    }
   ],
   "source": [
    "# Paths for saving the datasets\n",
    "X_train_path = '../data/processed/X_train_scaled.joblib'\n",
    "X_test_path = '../data/processed/X_test_scaled.joblib'\n",
    "y_train_path = '../data/processed/y_train.joblib'\n",
    "y_test_path = '../data/processed/y_test.joblib'\n",
    "y_train_encoded_path = '../data/processed/y_train_encoded.joblib'\n",
    "y_test_encoded_path = '../data/processed/y_test_encoded.joblib'\n",
    "\n",
    "# Saving the datasets\n",
    "try:\n",
    "    dump(X_train_scaled, X_train_path)\n",
    "    logging.info(f\"X_train_scaled saved successfully at {X_train_path}\")\n",
    "\n",
    "    dump(X_test_scaled, X_test_path)\n",
    "    logging.info(f\"X_test_scaled saved successfully at {X_test_path}\")\n",
    "\n",
    "    dump(y_train, y_train_path)\n",
    "    logging.info(f\"y_train saved successfully at {y_train_path}\")\n",
    "\n",
    "    dump(y_test, y_test_path)\n",
    "    logging.info(f\"y_test saved successfully at {y_test_path}\")\n",
    "\n",
    "    dump(y_train_encoded, y_train_encoded_path)\n",
    "    logging.info(f\"y_train_encoded saved successfully at {y_train_encoded_path}\")\n",
    "\n",
    "    dump(y_test_encoded, y_test_encoded_path)\n",
    "    logging.info(f\"y_test_encoded saved successfully at {y_test_encoded_path}\")\n",
    "except Exception as e:\n",
    "    logging.error(f\"Error while saving datasets: {e}\")"
   ]
  },
  {
   "attachments": {},
   "cell_type": "markdown",
   "metadata": {},
   "source": [
    "### Model Building, Training, and Testing: Sentiment Analysis Project\n",
    "\n",
    "This section of the notebook is dedicated to building, training, and testing various machine learning models for sentiment analysis. Our goal is to classify Twitter customer support interactions into sentiment categories: positive, negative, or neutral. We have chosen four models for this task, each with distinct characteristics and strengths:\n",
    "\n",
    "#### 1. Logistic Regression\n",
    "- **Approach**: We will tune hyperparameters like regularization strength (C) and iteration count, striving for a balance between model simplicity and predictive performance.\n",
    "\n",
    "#### 2. Support Vector Machine (SVM)\n",
    "- **Approach**: We'll explore both linear and non-linear kernels, aiming to capture complex patterns in the data while maintaining model efficiency.\n",
    "\n",
    "#### 3. Random Forest Classifier\n",
    "- **Approach**: We will focus on tuning tree-specific parameters like the number of trees and tree depth to optimize performance and prevent overfitting.\n",
    "\n",
    "#### 4. Gradient Boosting Machines (XGBoost)\n",
    "- **Approach**: We'll implement careful tuning of learning rate, number of estimators, and tree complexity, aiming to enhance the model's ability to sequentially learn from misclassified data points."
   ]
  },
  {
   "attachments": {},
   "cell_type": "markdown",
   "metadata": {},
   "source": [
    "\n",
    "### Testing and Evaluation:\n",
    "For each model, we'll perform the following:\n",
    "- **Cross-Validation**: To ensure robustness and generalizability, we'll use cross-validation techniques during hyperparameter tuning.\n",
    "- **Model Evaluation**: Post-training, we'll assess each model on the test dataset using metrics such as accuracy, precision, recall, and F1-score, providing a holistic view of each model's performance.\n",
    "\n",
    "The selection of these models demonstrates a strategic approach to tackling a real-world sentiment analysis task, showcasing a solid grasp of data science principles and the ability to apply different machine learning techniques effectively."
   ]
  },
  {
   "cell_type": "code",
   "execution_count": 5,
   "metadata": {},
   "outputs": [
    {
     "name": "stderr",
     "output_type": "stream",
     "text": [
      "2023-12-21 09:41:32,545 - INFO - X_train_scaled loaded successfully.\n",
      "2023-12-21 09:41:32,549 - INFO - X_test_scaled loaded successfully.\n",
      "2023-12-21 09:41:32,557 - INFO - y_train loaded successfully.\n",
      "2023-12-21 09:41:32,561 - INFO - y_test loaded successfully.\n",
      "2023-12-21 09:41:32,565 - INFO - y_train_encoded loaded successfully.\n",
      "2023-12-21 09:41:32,569 - INFO - y_test_encoded loaded successfully.\n"
     ]
    }
   ],
   "source": [
    "# loading the data\n",
    "# Paths where the datasets were saved\n",
    "X_train_path = '../data/processed/X_train_scaled.joblib'\n",
    "X_test_path = '../data/processed/X_test_scaled.joblib'\n",
    "y_train_path = '../data/processed/y_train.joblib'\n",
    "y_test_path = '../data/processed/y_test.joblib'\n",
    "y_train_encoded_path = '../data/processed/y_train_encoded.joblib'\n",
    "y_test_encoded_path = '../data/processed/y_test_encoded.joblib'\n",
    "\n",
    "# Loading the datasets\n",
    "try:\n",
    "    X_train_scaled = load(X_train_path)\n",
    "    logging.info(\"X_train_scaled loaded successfully.\")\n",
    "\n",
    "    X_test_scaled = load(X_test_path)\n",
    "    logging.info(\"X_test_scaled loaded successfully.\")\n",
    "\n",
    "    y_train = load(y_train_path)\n",
    "    logging.info(\"y_train loaded successfully.\")\n",
    "\n",
    "    y_test = load(y_test_path)\n",
    "    logging.info(\"y_test loaded successfully.\")\n",
    "\n",
    "    y_train_encoded = load(y_train_encoded_path)\n",
    "    logging.info(\"y_train_encoded loaded successfully.\")\n",
    "\n",
    "    y_test_encoded = load(y_test_encoded_path)\n",
    "    logging.info(\"y_test_encoded loaded successfully.\")\n",
    "except Exception as e:\n",
    "    logging.error(f\"Error while loading datasets: {e}\")"
   ]
  },
  {
   "cell_type": "code",
   "execution_count": 6,
   "metadata": {},
   "outputs": [],
   "source": [
    "# Initializing an empty DataFrame to store all model scores\n",
    "all_model_scores = pd.DataFrame(columns=['Model', 'F1 Score', 'Accuracy', 'Recall', 'Precision'])"
   ]
  },
  {
   "attachments": {},
   "cell_type": "markdown",
   "metadata": {},
   "source": [
    "##### Logistic Regression:"
   ]
  },
  {
   "cell_type": "code",
   "execution_count": 7,
   "metadata": {},
   "outputs": [
    {
     "name": "stderr",
     "output_type": "stream",
     "text": [
      "2023-12-21 09:43:58,983 - INFO - Model scores appended successfully.\n"
     ]
    }
   ],
   "source": [
    "logreg_model = LogisticRegression(max_iter=1000)\n",
    "\n",
    "# Evaluate the model\n",
    "logreg_scores = evaluate_with_cv(logreg_model, X_train_scaled, y_train, \"Logistic Regression\")\n",
    "\n",
    "# Append to the master DataFrame\n",
    "try:\n",
    "    all_model_scores = pd.concat([all_model_scores, pd.DataFrame([logreg_scores])], ignore_index=True)\n",
    "    logging.info(\"Model scores appended successfully.\")\n",
    "except Exception as e:\n",
    "    logging.error(f\"Error appending model scores: {e}\")"
   ]
  },
  {
   "attachments": {},
   "cell_type": "markdown",
   "metadata": {},
   "source": [
    "##### Support Vector Classifier (SVM)"
   ]
  },
  {
   "cell_type": "code",
   "execution_count": 9,
   "metadata": {},
   "outputs": [
    {
     "name": "stderr",
     "output_type": "stream",
     "text": [
      "2023-12-21 12:50:17,832 - ERROR - Error appending model scores: cannot concatenate object of type '<class 'dict'>'; only Series and DataFrame objs are valid\n"
     ]
    }
   ],
   "source": [
    "# stratified sampling to optimize training times\n",
    "sample_size = 0.5\n",
    "\n",
    "# Perform stratified sampling\n",
    "X_train_sampled, _, y_train_sampled, _ = train_test_split(\n",
    "    X_train_scaled, y_train, test_size=1 - sample_size, stratify=y_train, random_state=42\n",
    ")\n",
    "\n",
    "# initializing SVM - classifier model\n",
    "svc_model = SVC(kernel='linear', cache_size=1000, tol=0.01)\n",
    "\n",
    "# Evaluate the model\n",
    "svc_scores = evaluate_with_cv(svc_model, X_train_sampled, y_train_sampled, \"Support Vector Classifier (SVM)\")\n"
   ]
  },
  {
   "cell_type": "code",
   "execution_count": 10,
   "metadata": {},
   "outputs": [
    {
     "name": "stderr",
     "output_type": "stream",
     "text": [
      "2023-12-21 12:54:04,342 - INFO - Model scores appended successfully.\n"
     ]
    }
   ],
   "source": [
    "# Append to the master DataFrame\n",
    "try:\n",
    "    all_model_scores = pd.concat([all_model_scores, pd.DataFrame([svc_scores])], ignore_index=True)\n",
    "    logging.info(\"Model scores appended successfully.\")\n",
    "except Exception as e:\n",
    "    logging.error(f\"Error appending model scores: {e}\")"
   ]
  },
  {
   "attachments": {},
   "cell_type": "markdown",
   "metadata": {},
   "source": [
    "#### Random Forest Classifier"
   ]
  },
  {
   "cell_type": "code",
   "execution_count": 11,
   "metadata": {},
   "outputs": [
    {
     "name": "stderr",
     "output_type": "stream",
     "text": [
      "2023-12-21 13:28:49,297 - INFO - Model scores appended successfully.\n"
     ]
    }
   ],
   "source": [
    "rf_model = RandomForestClassifier(random_state=42, n_jobs=-1)\n",
    "\n",
    "# Evaluate the model\n",
    "rf_scores = evaluate_with_cv(rf_model, X_train_sampled, y_train_sampled, \"Random Forest Classifier\")\n",
    "\n",
    "# Append to the master DataFrame\n",
    "try:\n",
    "    all_model_scores = pd.concat([all_model_scores, pd.DataFrame([rf_scores])], ignore_index=True)\n",
    "    logging.info(\"Model scores appended successfully.\")\n",
    "except Exception as e:\n",
    "    logging.error(f\"Error appending model scores: {e}\")"
   ]
  },
  {
   "attachments": {},
   "cell_type": "markdown",
   "metadata": {},
   "source": [
    "#### XGBoost Classifier"
   ]
  },
  {
   "cell_type": "code",
   "execution_count": 12,
   "metadata": {},
   "outputs": [
    {
     "name": "stderr",
     "output_type": "stream",
     "text": [
      "2023-12-21 13:59:35,457 - INFO - XGBoost Classifier scores appended successfully.\n"
     ]
    }
   ],
   "source": [
    "# Train the XGBoost model with encoded labels\n",
    "xgb_model = XGBClassifier(eval_metric='mlogloss')\n",
    "\n",
    "# Evaluate the model\n",
    "try:\n",
    "    xgb_scores = evaluate_with_cv(xgb_model, X_train_scaled, y_train_encoded,  \"XGBoost Classifier\")\n",
    "    all_model_scores = pd.concat([all_model_scores, pd.DataFrame([xgb_scores])], ignore_index=True)\n",
    "    logging.info(\"XGBoost Classifier scores appended successfully.\")\n",
    "except Exception as e:\n",
    "    logging.error(f\"Error evaluating XGBoost Classifier: {e}\")"
   ]
  },
  {
   "cell_type": "code",
   "execution_count": 15,
   "metadata": {},
   "outputs": [
    {
     "name": "stderr",
     "output_type": "stream",
     "text": [
      "2023-12-21 17:01:26,105 - INFO - Columns dropped successfuly. Results DataFrame is completed\n"
     ]
    }
   ],
   "source": [
    "try:\n",
    "    all_model_scores = all_model_scores.drop(columns=[\"F1 Score\", \"Accuracy\", \"Recall\", \"Precision\"], axis=1)\n",
    "\n",
    "    all_model_scores\n",
    "    logging.info(\"Columns dropped successfuly. Results DataFrame is completed\")\n",
    "except Exception as e:\n",
    "    logging.error(f\"Error while dropping columns: {e}\")\n",
    "    raise"
   ]
  },
  {
   "cell_type": "code",
   "execution_count": 16,
   "metadata": {},
   "outputs": [
    {
     "data": {
      "text/html": [
       "<div>\n",
       "<style scoped>\n",
       "    .dataframe tbody tr th:only-of-type {\n",
       "        vertical-align: middle;\n",
       "    }\n",
       "\n",
       "    .dataframe tbody tr th {\n",
       "        vertical-align: top;\n",
       "    }\n",
       "\n",
       "    .dataframe thead th {\n",
       "        text-align: right;\n",
       "    }\n",
       "</style>\n",
       "<table border=\"1\" class=\"dataframe\">\n",
       "  <thead>\n",
       "    <tr style=\"text-align: right;\">\n",
       "      <th></th>\n",
       "      <th>Model</th>\n",
       "      <th>train_accuracy</th>\n",
       "      <th>train_precision_macro</th>\n",
       "      <th>train_recall_macro</th>\n",
       "      <th>train_f1_macro</th>\n",
       "      <th>test_accuracy</th>\n",
       "      <th>test_precision_macro</th>\n",
       "      <th>test_recall_macro</th>\n",
       "      <th>test_f1_macro</th>\n",
       "    </tr>\n",
       "  </thead>\n",
       "  <tbody>\n",
       "    <tr>\n",
       "      <th>0</th>\n",
       "      <td>Logistic Regression</td>\n",
       "      <td>0.775846</td>\n",
       "      <td>0.777486</td>\n",
       "      <td>0.771656</td>\n",
       "      <td>0.771761</td>\n",
       "      <td>0.765671</td>\n",
       "      <td>0.766945</td>\n",
       "      <td>0.761292</td>\n",
       "      <td>0.761228</td>\n",
       "    </tr>\n",
       "    <tr>\n",
       "      <th>1</th>\n",
       "      <td>Support Vector Classifier (SVM)</td>\n",
       "      <td>0.778529</td>\n",
       "      <td>0.781786</td>\n",
       "      <td>0.774570</td>\n",
       "      <td>0.774476</td>\n",
       "      <td>0.763743</td>\n",
       "      <td>0.765967</td>\n",
       "      <td>0.759453</td>\n",
       "      <td>0.758924</td>\n",
       "    </tr>\n",
       "    <tr>\n",
       "      <th>2</th>\n",
       "      <td>Random Forest Classifier</td>\n",
       "      <td>0.992486</td>\n",
       "      <td>0.992679</td>\n",
       "      <td>0.992413</td>\n",
       "      <td>0.992508</td>\n",
       "      <td>0.719486</td>\n",
       "      <td>0.718009</td>\n",
       "      <td>0.715926</td>\n",
       "      <td>0.715362</td>\n",
       "    </tr>\n",
       "    <tr>\n",
       "      <th>3</th>\n",
       "      <td>XGBoost Classifier</td>\n",
       "      <td>0.788732</td>\n",
       "      <td>0.795321</td>\n",
       "      <td>0.784709</td>\n",
       "      <td>0.785260</td>\n",
       "      <td>0.755800</td>\n",
       "      <td>0.759700</td>\n",
       "      <td>0.751367</td>\n",
       "      <td>0.750897</td>\n",
       "    </tr>\n",
       "  </tbody>\n",
       "</table>\n",
       "</div>"
      ],
      "text/plain": [
       "                             Model  train_accuracy  train_precision_macro   \n",
       "0              Logistic Regression        0.775846               0.777486  \\\n",
       "1  Support Vector Classifier (SVM)        0.778529               0.781786   \n",
       "2         Random Forest Classifier        0.992486               0.992679   \n",
       "3               XGBoost Classifier        0.788732               0.795321   \n",
       "\n",
       "   train_recall_macro  train_f1_macro  test_accuracy  test_precision_macro   \n",
       "0            0.771656        0.771761       0.765671              0.766945  \\\n",
       "1            0.774570        0.774476       0.763743              0.765967   \n",
       "2            0.992413        0.992508       0.719486              0.718009   \n",
       "3            0.784709        0.785260       0.755800              0.759700   \n",
       "\n",
       "   test_recall_macro  test_f1_macro  \n",
       "0           0.761292       0.761228  \n",
       "1           0.759453       0.758924  \n",
       "2           0.715926       0.715362  \n",
       "3           0.751367       0.750897  "
      ]
     },
     "execution_count": 16,
     "metadata": {},
     "output_type": "execute_result"
    }
   ],
   "source": [
    "all_model_scores"
   ]
  },
  {
   "cell_type": "code",
   "execution_count": 17,
   "metadata": {},
   "outputs": [
    {
     "name": "stderr",
     "output_type": "stream",
     "text": [
      "2023-12-21 17:08:10,614 - INFO - DataFrame saved successfully to ../models/default_metrics.csv\n",
      "2023-12-21 17:08:10,615 - INFO - Function applied successfully\n"
     ]
    }
   ],
   "source": [
    "try:\n",
    "    save_data(df=all_model_scores, folder_path=\"../models/\", file_name=\"default_metrics.csv\")\n",
    "    logging.info(\"Function applied successfully\")\n",
    "except Exception as e:\n",
    "    logging.error(\"Error while applying function: {e}\")\n",
    "    raise"
   ]
  },
  {
   "attachments": {},
   "cell_type": "markdown",
   "metadata": {},
   "source": [
    "#### Hyperparameter Tunning:\n",
    "\n",
    "Next, we will tune the models, evaluate them and select the best performing model in the unseen test set. The process will use RandomizedSearchCV as a "
   ]
  },
  {
   "cell_type": "code",
   "execution_count": 18,
   "metadata": {},
   "outputs": [],
   "source": [
    "# Initializing an empty DataFrame to store all tunned model scores \n",
    "all_model_scores2 = pd.DataFrame(columns=['Model', 'F1 Score', 'Accuracy', 'Recall', 'Precision'])"
   ]
  },
  {
   "attachments": {},
   "cell_type": "markdown",
   "metadata": {},
   "source": [
    "#### Tunning Logistic Regression Model"
   ]
  },
  {
   "cell_type": "code",
   "execution_count": 22,
   "metadata": {},
   "outputs": [
    {
     "name": "stdout",
     "output_type": "stream",
     "text": [
      "Fitting 5 folds for each of 100 candidates, totalling 500 fits\n"
     ]
    },
    {
     "name": "stderr",
     "output_type": "stream",
     "text": [
      "2023-12-22 17:07:37,614 - INFO - Hyperparameter tunning applied successfully\n"
     ]
    }
   ],
   "source": [
    "from scipy.stats import loguniform\n",
    "from sklearn.linear_model import LogisticRegression\n",
    "from sklearn.model_selection import RandomizedSearchCV\n",
    "\n",
    "# Adjusted Hyperparameter Distributions\n",
    "param_dist_logreg = {\n",
    "    'C': loguniform(1e-2, 1e2),  # Regularization strength\n",
    "    # Chosen solvers that are compatible with 'l2' penalty\n",
    "    'solver': ['newton-cg', 'lbfgs', 'sag'],  \n",
    "    'penalty': ['l2']  # Only 'l2' penalty is included\n",
    "}\n",
    "\n",
    "logreg = LogisticRegression(max_iter=1000)\n",
    "\n",
    "random_search_logreg = RandomizedSearchCV(\n",
    "    logreg,\n",
    "    param_distributions=param_dist_logreg,\n",
    "    n_iter=100,\n",
    "    cv=5,\n",
    "    scoring=['accuracy', 'precision_macro', 'recall_macro', 'f1_macro'],\n",
    "    refit='f1_macro',\n",
    "    n_jobs=-1,\n",
    "    random_state=42,\n",
    "    verbose=1\n",
    ")\n",
    "\n",
    "# Perform hyperparameter tuning\n",
    "try:\n",
    "    random_search_logreg.fit(X_train_sampled, y_train_sampled)\n",
    "    best_logreg = random_search_logreg.best_estimator_\n",
    "    logging.info(\"Hyperparameter tunning applied successfully\")\n",
    "except Exception as e:\n",
    "    logging.error(f\"Error while performing hyperparameter tunning: {e}\")\n",
    "    raise"
   ]
  },
  {
   "attachments": {},
   "cell_type": "markdown",
   "metadata": {},
   "source": [
    "##### Serializing Tuned LogReg "
   ]
  },
  {
   "cell_type": "code",
   "execution_count": 23,
   "metadata": {},
   "outputs": [
    {
     "name": "stderr",
     "output_type": "stream",
     "text": [
      "2023-12-22 21:56:35,235 - INFO - Models saved successfully at ../models/random_search_logreg.joblib and ../models/best_logreg.joblib\n"
     ]
    }
   ],
   "source": [
    "random_search_logreg_path = '../models/random_search_logreg.joblib'\n",
    "best_logreg_path = \"../models/best_logreg.joblib\"\n",
    "\n",
    "try:\n",
    "    dump(random_search_logreg, random_search_logreg_path)\n",
    "    dump(best_logreg, best_logreg_path)\n",
    "    logging.info(f\"Models saved successfully at {random_search_logreg_path} and {best_logreg_path}\")\n",
    "except Exception as e:\n",
    "    logging.error(f\"Error saving the models: {e}\")"
   ]
  },
  {
   "attachments": {},
   "cell_type": "markdown",
   "metadata": {},
   "source": [
    "#### Metrics for LogReg to DataFrame"
   ]
  },
  {
   "cell_type": "code",
   "execution_count": 24,
   "metadata": {},
   "outputs": [
    {
     "name": "stderr",
     "output_type": "stream",
     "text": [
      "2023-12-22 22:05:37,431 - INFO - Best Logistic Regression model evaluated successfully and added to DataFrame\n"
     ]
    }
   ],
   "source": [
    "try:\n",
    "    logreg_results = evaluate_model(best_logreg, X_train_scaled, y_train, X_test_scaled, y_test)\n",
    "    # Adding logreg scores to a df\n",
    "    all_model_scores2 = pd.concat([all_model_scores2, pd.DataFrame([logreg_results])], ignore_index=True)\n",
    "    logging.info(\"Best Logistic Regression model evaluated successfully and added to DataFrame\")\n",
    "except Exception as e:\n",
    "    logging.error(f\"Error while evaluating the model: {e}\")\n",
    "    raise"
   ]
  },
  {
   "attachments": {},
   "cell_type": "markdown",
   "metadata": {},
   "source": [
    "#### Tunning Random Forest Classifier Model"
   ]
  },
  {
   "cell_type": "code",
   "execution_count": 27,
   "metadata": {},
   "outputs": [
    {
     "name": "stdout",
     "output_type": "stream",
     "text": [
      "Fitting 5 folds for each of 150 candidates, totalling 750 fits\n"
     ]
    },
    {
     "name": "stderr",
     "output_type": "stream",
     "text": [
      "/Users/camilods16/opt/anaconda3/envs/nlp-c/lib/python3.9/site-packages/sklearn/metrics/_classification.py:1344: UndefinedMetricWarning: Precision is ill-defined and being set to 0.0 in labels with no predicted samples. Use `zero_division` parameter to control this behavior.\n",
      "  _warn_prf(average, modifier, msg_start, len(result))\n",
      "2023-12-23 15:42:29,271 - INFO - Hyperparameter tuning for Random Forest completed successfully.\n"
     ]
    }
   ],
   "source": [
    "from scipy.stats import randint\n",
    "\n",
    "# Hyperparameter distributions\n",
    "param_dist_rf = {\n",
    "    'n_estimators': randint(100, 300),\n",
    "    'max_depth': randint(3, 20),\n",
    "    'min_samples_split': randint(2, 10),\n",
    "    'min_samples_leaf': randint(1, 10),\n",
    "    'max_features': ['sqrt', 'log2']}\n",
    "\n",
    "# Random Forest model\n",
    "rf = RandomForestClassifier()\n",
    "\n",
    "# RandomizedSearchCV setup\n",
    "random_search_rf = RandomizedSearchCV(\n",
    "    rf,\n",
    "    param_distributions=param_dist_rf,\n",
    "    n_iter=150,\n",
    "    cv=5,\n",
    "    scoring={\n",
    "        'accuracy': 'accuracy',\n",
    "        'precision_macro': 'precision_macro',\n",
    "        'recall_macro': 'recall_macro',\n",
    "        'f1_macro': 'f1_macro'\n",
    "    },\n",
    "    refit='f1_macro',\n",
    "    n_jobs=-1,\n",
    "    random_state=42,\n",
    "    verbose=1\n",
    ")\n",
    "\n",
    "# Perform hyperparameter tuning\n",
    "try:\n",
    "    random_search_rf.fit(X_train_sampled, y_train_sampled)\n",
    "    best_rf = random_search_rf.best_estimator_\n",
    "    logging.info(\"Hyperparameter tuning for Random Forest completed successfully.\")\n",
    "except Exception as e:\n",
    "    logging.error(f\"Error during hyperparameter tuning for Random Forest: {e}\")"
   ]
  },
  {
   "attachments": {},
   "cell_type": "markdown",
   "metadata": {},
   "source": [
    "##### Serializing Tuned Random Forest"
   ]
  },
  {
   "cell_type": "code",
   "execution_count": 28,
   "metadata": {},
   "outputs": [
    {
     "name": "stderr",
     "output_type": "stream",
     "text": [
      "2023-12-23 16:57:45,664 - INFO - Models saved successfully at ../models/random_search_rf.joblib and ../models/best_rf.joblib\n"
     ]
    }
   ],
   "source": [
    "# path to model\n",
    "random_search_rf_path = '../models/random_search_rf.joblib'\n",
    "best_rf_path = \"../models/best_rf.joblib\"\n",
    "\n",
    "try:\n",
    "    dump(random_search_rf, random_search_rf_path)\n",
    "    dump(best_rf, best_rf_path)\n",
    "    logging.info(f\"Models saved successfully at {random_search_rf_path} and {best_rf_path}\")\n",
    "except Exception as e:\n",
    "    logging.error(f\"Error saving the models: {e}\")"
   ]
  },
  {
   "cell_type": "code",
   "execution_count": 29,
   "metadata": {},
   "outputs": [
    {
     "name": "stderr",
     "output_type": "stream",
     "text": [
      "2023-12-23 17:29:10,400 - INFO - Best Random Forest model evaluated successfully and added to DataFrame\n"
     ]
    }
   ],
   "source": [
    "try:\n",
    "    rf_results = evaluate_model(best_rf, X_train_scaled, y_train, X_test_scaled, y_test)\n",
    "    # Adding random forest scores to a df\n",
    "    all_model_scores2 = pd.concat([all_model_scores2, pd.DataFrame([rf_results])], ignore_index=True)\n",
    "    logging.info(\"Best Random Forest model evaluated successfully and added to DataFrame\")\n",
    "except Exception as e:\n",
    "    logging.error(f\"Error while evaluating the model: {e}\")\n",
    "    raise"
   ]
  },
  {
   "attachments": {},
   "cell_type": "markdown",
   "metadata": {},
   "source": [
    "#### Tunning XGBoost Classifier Model"
   ]
  },
  {
   "cell_type": "code",
   "execution_count": 33,
   "metadata": {},
   "outputs": [],
   "source": [
    "# encoding sampled y_train for XGBoost \n",
    "label_encoder2 = LabelEncoder()\n",
    "y_train_sampled_encoded = label_encoder2.fit_transform(y_train_sampled)"
   ]
  },
  {
   "cell_type": "code",
   "execution_count": 34,
   "metadata": {},
   "outputs": [
    {
     "name": "stdout",
     "output_type": "stream",
     "text": [
      "Fitting 5 folds for each of 100 candidates, totalling 500 fits\n"
     ]
    },
    {
     "name": "stderr",
     "output_type": "stream",
     "text": [
      "2023-12-24 16:55:03,661 - INFO - Hyperparameter tuning for XGBoost completed successfully.\n"
     ]
    }
   ],
   "source": [
    "from scipy.stats import uniform, randint\n",
    "\n",
    "# Expanded hyperparameter distributions\n",
    "param_dist_xgb = {\n",
    "    'n_estimators': randint(100, 300),  \n",
    "    'learning_rate': uniform(0.01, 0.3), \n",
    "    'max_depth': randint(3, 15),         \n",
    "    'subsample': uniform(0.7, 0.3),      \n",
    "    'colsample_bytree': uniform(0.7, 0.3), \n",
    "    'gamma': uniform(0, 5)               \n",
    "}\n",
    "\n",
    "# XGBoost model\n",
    "xgb = XGBClassifier(eval_metric='mlogloss')\n",
    "\n",
    "# RandomizedSearchCV setup with expanded hyperparameters\n",
    "random_search_xgb = RandomizedSearchCV(\n",
    "    xgb,\n",
    "    param_distributions=param_dist_xgb,\n",
    "    n_iter=100,  \n",
    "    cv=5,\n",
    "    scoring={\n",
    "        'accuracy': 'accuracy',\n",
    "        'precision_macro': 'precision_macro',\n",
    "        'recall_macro': 'recall_macro',\n",
    "        'f1_macro': 'f1_macro'\n",
    "    },\n",
    "    refit='f1_macro',\n",
    "    n_jobs=-1,\n",
    "    random_state=42,\n",
    "    verbose=1\n",
    ")\n",
    "\n",
    "# hyperparameter tuning\n",
    "try:\n",
    "    random_search_xgb.fit(X_train_sampled, y_train_sampled_encoded)\n",
    "    best_xgb = random_search_xgb.best_estimator_\n",
    "    logging.info(\"Hyperparameter tuning for XGBoost completed successfully.\")\n",
    "except Exception as e:\n",
    "    logging.error(f\"Error during hyperparameter tuning for XGBoost: {e}\")"
   ]
  },
  {
   "attachments": {},
   "cell_type": "markdown",
   "metadata": {},
   "source": [
    "##### Serializing Tuned XGBoost Model "
   ]
  },
  {
   "cell_type": "code",
   "execution_count": 35,
   "metadata": {},
   "outputs": [
    {
     "name": "stderr",
     "output_type": "stream",
     "text": [
      "2023-12-24 17:00:23,829 - INFO - Models saved successfully at ../models/random_search_xgb.joblib and ../models/best_xgb.joblib\n"
     ]
    }
   ],
   "source": [
    "# path to model\n",
    "random_search_xgb_path = '../models/random_search_xgb.joblib'\n",
    "best_xgb_path = \"../models/best_xgb.joblib\"\n",
    "\n",
    "try:\n",
    "    dump(random_search_xgb, random_search_xgb_path)\n",
    "    dump(best_xgb, best_xgb_path)\n",
    "    logging.info(f\"Models saved successfully at {random_search_xgb_path} and {best_xgb_path}\")\n",
    "except Exception as e:\n",
    "    logging.error(f\"Error saving the models: {e}\")"
   ]
  },
  {
   "cell_type": "code",
   "execution_count": 36,
   "metadata": {},
   "outputs": [
    {
     "name": "stderr",
     "output_type": "stream",
     "text": [
      "2023-12-24 17:03:01,245 - INFO - Best XGBoost model evaluated successfully and added to DataFrame\n"
     ]
    }
   ],
   "source": [
    "try:\n",
    "    xgb_results = evaluate_model(best_xgb, X_train_scaled, y_train_encoded, X_test_scaled, y_test_encoded)\n",
    "    # Adding xgboost scores to a df\n",
    "    all_model_scores2 = pd.concat([all_model_scores2, pd.DataFrame([xgb_results])], ignore_index=True)\n",
    "    logging.info(\"Best XGBoost model evaluated successfully and added to DataFrame\")\n",
    "except Exception as e:\n",
    "    logging.error(f\"Error while evaluating the model: {e}\")\n",
    "    raise"
   ]
  },
  {
   "attachments": {},
   "cell_type": "markdown",
   "metadata": {},
   "source": [
    "#### Models Metrics: Tuned vs Default Models"
   ]
  },
  {
   "cell_type": "code",
   "execution_count": 39,
   "metadata": {},
   "outputs": [
    {
     "name": "stderr",
     "output_type": "stream",
     "text": [
      "2023-12-24 17:05:43,642 - INFO - First three rows dropped successfully\n"
     ]
    },
    {
     "data": {
      "text/html": [
       "<div>\n",
       "<style scoped>\n",
       "    .dataframe tbody tr th:only-of-type {\n",
       "        vertical-align: middle;\n",
       "    }\n",
       "\n",
       "    .dataframe tbody tr th {\n",
       "        vertical-align: top;\n",
       "    }\n",
       "\n",
       "    .dataframe thead th {\n",
       "        text-align: right;\n",
       "    }\n",
       "</style>\n",
       "<table border=\"1\" class=\"dataframe\">\n",
       "  <thead>\n",
       "    <tr style=\"text-align: right;\">\n",
       "      <th></th>\n",
       "      <th>Model</th>\n",
       "      <th>Train Accuracy</th>\n",
       "      <th>Test Accuracy</th>\n",
       "      <th>Train Precision</th>\n",
       "      <th>Test Precision</th>\n",
       "      <th>Train Recall</th>\n",
       "      <th>Test Recall</th>\n",
       "      <th>Train F1</th>\n",
       "      <th>Test F1</th>\n",
       "    </tr>\n",
       "  </thead>\n",
       "  <tbody>\n",
       "    <tr>\n",
       "      <th>0</th>\n",
       "      <td>LogisticRegression</td>\n",
       "      <td>0.776557</td>\n",
       "      <td>0.766333</td>\n",
       "      <td>0.778608</td>\n",
       "      <td>0.767826</td>\n",
       "      <td>0.772274</td>\n",
       "      <td>0.762439</td>\n",
       "      <td>0.772403</td>\n",
       "      <td>0.762131</td>\n",
       "    </tr>\n",
       "    <tr>\n",
       "      <th>1</th>\n",
       "      <td>RandomForestClassifier</td>\n",
       "      <td>0.701171</td>\n",
       "      <td>0.677033</td>\n",
       "      <td>0.703363</td>\n",
       "      <td>0.678031</td>\n",
       "      <td>0.698324</td>\n",
       "      <td>0.673792</td>\n",
       "      <td>0.698474</td>\n",
       "      <td>0.673577</td>\n",
       "    </tr>\n",
       "    <tr>\n",
       "      <th>2</th>\n",
       "      <td>XGBClassifier</td>\n",
       "      <td>0.796443</td>\n",
       "      <td>0.768200</td>\n",
       "      <td>0.801739</td>\n",
       "      <td>0.771682</td>\n",
       "      <td>0.792134</td>\n",
       "      <td>0.763903</td>\n",
       "      <td>0.792824</td>\n",
       "      <td>0.763696</td>\n",
       "    </tr>\n",
       "  </tbody>\n",
       "</table>\n",
       "</div>"
      ],
      "text/plain": [
       "                    Model  Train Accuracy  Test Accuracy  Train Precision   \n",
       "0      LogisticRegression        0.776557       0.766333         0.778608  \\\n",
       "1  RandomForestClassifier        0.701171       0.677033         0.703363   \n",
       "2           XGBClassifier        0.796443       0.768200         0.801739   \n",
       "\n",
       "   Test Precision  Train Recall  Test Recall  Train F1   Test F1  \n",
       "0        0.767826      0.772274     0.762439  0.772403  0.762131  \n",
       "1        0.678031      0.698324     0.673792  0.698474  0.673577  \n",
       "2        0.771682      0.792134     0.763903  0.792824  0.763696  "
      ]
     },
     "execution_count": 39,
     "metadata": {},
     "output_type": "execute_result"
    }
   ],
   "source": [
    "try:\n",
    "    all_model_scores2 = all_model_scores2.drop(columns=['F1 Score', 'Accuracy', 'Recall', 'Precision'], axis=1)\n",
    "    logging.info(\"First three rows dropped successfully\")\n",
    "except Exception as e:\n",
    "    logging.error(f\"Error while dropping rows: {e}\")\n",
    "    raise\n",
    "\n",
    "# displaying dataframe\n",
    "all_model_scores2"
   ]
  },
  {
   "attachments": {},
   "cell_type": "markdown",
   "metadata": {},
   "source": [
    "##### Saving Metrics of Models"
   ]
  },
  {
   "cell_type": "code",
   "execution_count": 47,
   "metadata": {},
   "outputs": [
    {
     "name": "stderr",
     "output_type": "stream",
     "text": [
      "2023-12-24 19:19:24,703 - INFO - DataFrame saved successfully to ../models/tuned_models_metrics.csv\n",
      "2023-12-24 19:19:24,704 - INFO - Function applied successfully\n"
     ]
    }
   ],
   "source": [
    "try:\n",
    "    save_data(df=all_model_scores2, folder_path=\"../models/\", file_name=\"tuned_models_metrics.csv\")\n",
    "    logging.info(\"Function applied successfully\")\n",
    "except Exception as e:\n",
    "    logging.error(\"Error while applying function: {e}\")\n",
    "    raise"
   ]
  },
  {
   "attachments": {},
   "cell_type": "markdown",
   "metadata": {},
   "source": [
    "#### Model Selection: XGBoost Classifier Tuned Model\n",
    "\n",
    "After evaluating models with default and tuned hyperparameters, we can observe the Extreme Gradient Boosting Classifier(XGBoost) perform better than other models in all metrics. We chose F1 as the baseline metric for evaluation since it presents a balanced measure between Precision and Recall. "
   ]
  },
  {
   "cell_type": "code",
   "execution_count": 48,
   "metadata": {},
   "outputs": [],
   "source": [
    "import pandas as pd\n",
    "import matplotlib.pyplot as plt\n",
    "import seaborn as sns\n",
    "from sklearn.feature_extraction.text import TfidfVectorizer"
   ]
  },
  {
   "attachments": {},
   "cell_type": "markdown",
   "metadata": {},
   "source": [
    "#### Creating Feature Importance Plot"
   ]
  },
  {
   "cell_type": "code",
   "execution_count": 49,
   "metadata": {},
   "outputs": [
    {
     "name": "stderr",
     "output_type": "stream",
     "text": [
      "2023-12-29 09:05:48,748 - INFO - Starting execution of load_data\n",
      "2023-12-29 09:05:50,224 - INFO - Data loading completed successfully\n",
      "2023-12-29 09:05:50,229 - INFO - Data loaded successfully\n"
     ]
    }
   ],
   "source": [
    "try: \n",
    "    file_path = '../data/processed/processed_data.csv'\n",
    "    df = load_data(file_path=file_path)\n",
    "    logging.info(\"Data loaded successfully\")\n",
    "except Exception as e:\n",
    "    logging.error(f\"Error while loading the dataset: {e}\")"
   ]
  },
  {
   "cell_type": "code",
   "execution_count": 53,
   "metadata": {},
   "outputs": [
    {
     "data": {
      "image/png": "[encoded data removed]",
      "text/plain": [
       "<Figure size 1000x600 with 1 Axes>"
      ]
     },
     "metadata": {},
     "output_type": "display_data"
    }
   ],
   "source": [
    "df['processed_text'] = df['processed_text'].fillna('')\n",
    "# Initialize TfidfVectorizer and fit it on the full dataset\n",
    "tfidf_vectorizer = TfidfVectorizer(max_features=1000)\n",
    "tfidf_vectorizer.fit(df['processed_text'])\n",
    "\n",
    "# Get feature names from the vectorizer\n",
    "feature_names = tfidf_vectorizer.get_feature_names_out()\n",
    "\n",
    "# Additional feature names used during model training\n",
    "additional_features_names = ['noun_count', 'product_mentions', 'text_length', 'brand_mentions', 'adj_count', 'text_complexity']\n",
    "\n",
    "# Combine all feature names\n",
    "all_feature_names = np.concatenate((feature_names, additional_features_names))\n",
    "\n",
    "# Ensure you have the best XGBoost model loaded as best_xgb\n",
    "\n",
    "# Extract feature importances\n",
    "feature_importances = best_xgb.feature_importances_\n",
    "\n",
    "# Adjust the length of feature_importances to match the length of all_feature_names\n",
    "# This assumes that the first part of feature_importances corresponds to the TF-IDF features\n",
    "# and the rest are the additional features.\n",
    "feature_importances = np.concatenate((feature_importances[:len(feature_names)], feature_importances[-len(additional_features_names):]))\n",
    "\n",
    "# Map feature names to their importances\n",
    "feature_importance_dict = dict(zip(all_feature_names, feature_importances))\n",
    "\n",
    "# Convert to a DataFrame for visualization\n",
    "feature_importance_df = pd.DataFrame(list(feature_importance_dict.items()), columns=['Feature', 'Importance'])\n",
    "\n",
    "# Sort the DataFrame by the absolute value of importances\n",
    "feature_importance_df = feature_importance_df.reindex(feature_importance_df.Importance.abs().sort_values(ascending=False).index)\n",
    "\n",
    "# Plot the top 10 feature importances\n",
    "top_n = 10\n",
    "top_features_df = feature_importance_df.head(top_n)\n",
    "plt.figure(figsize=(10, 6))\n",
    "sns.barplot(x=top_features_df['Importance'], y=top_features_df['Feature'])\n",
    "plt.title(f'Top {top_n} Feature Importances from XGBoost')\n",
    "plt.xlabel('Importance Score')\n",
    "plt.ylabel('Feature')\n",
    "plt.tight_layout()\n",
    "plt.savefig('xgb_feature_importances.png')\n",
    "plt.show()"
   ]
  }
 ],
 "metadata": {
  "kernelspec": {
   "display_name": "nlp-c",
   "language": "python",
   "name": "python3"
  },
  "language_info": {
   "codemirror_mode": {
    "name": "ipython",
    "version": 3
   },
   "file_extension": ".py",
   "mimetype": "text/x-python",
   "name": "python",
   "nbconvert_exporter": "python",
   "pygments_lexer": "ipython3",
   "version": "3.9.16"
  },
  "orig_nbformat": 4
 },
 "nbformat": 4,
 "nbformat_minor": 2
}
