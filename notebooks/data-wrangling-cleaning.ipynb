{
 "cells": [
  {
   "attachments": {},
   "cell_type": "markdown",
   "metadata": {},
   "source": [
    "## Data Wrangling & Exploratory Data Analysis: Chatbot 'Yoldi' \n",
    "\n",
    "This notebook encompasses the initial stages of developing a chatbot, 'Yoldi', designed to automate responses for AppleSupport on social media platforms. The key steps in this notebook include:\n",
    "\n",
    "### 1. Data Acquisition\n",
    "- **Objective**: Load the dataset from the provided CSV file, focusing specifically on tweets related to AppleSupport.\n",
    "- **Methodology**: Use PostgreSQL to create a database, called customer_support, create the schema and set it up. Then, upload the csv file to the database. Finally, use SQL to randomly sample the dataset and optimize processing. \n",
    "\n",
    "### 2. Data Wrangling and Cleaning\n",
    "- **Objective**: Prepare the dataset for analysis and model training.\n",
    "- **Steps Involved**:\n",
    "  - Filter out inbound queries(users) and responses from Customer Support.\n",
    "  - Handle missing data, duplicates, and other data inconsistencies.\n",
    "  - Link user queries with corresponding Customer Support responses.\n",
    "\n",
    "### 3. Exploratory Data Analysis (EDA)\n",
    "- **Objective**: Gain insights from the data through visualization and basic statistics.\n",
    "- **Techniques Used**:\n",
    "  - Visualize the distribution of queries over time.\n",
    "  - Analyze the common themes or topics in customer queries.\n",
    "  - Understand the response patterns of Customer Support.\n",
    "\n",
    "### 4. Initial Data Insights\n",
    "- **Objective**: Draw preliminary conclusions from the EDA.\n",
    "- **Key Areas**:\n",
    "  - Understanding the nature and complexity of queries.\n",
    "  - Assessing the efficiency of customer support responses.\n"
   ]
  },
  {
   "cell_type": "code",
   "execution_count": 8,
   "metadata": {},
   "outputs": [],
   "source": [
    "import logging\n",
    "import html\n",
    "import os\n",
    "import pandas as pd\n",
    "import matplotlib.pyplot as plt\n",
    "import seaborn as sns\n",
    "import spacy\n",
    "import nltk\n",
    "import dotenv\n",
    "import re\n",
    "from nltk.sentiment import SentimentIntensityAnalyzer\n",
    "from collections import Counter\n",
    "from wordcloud import WordCloud, STOPWORDS\n",
    "import plotly.express as px\n",
    "from sqlalchemy import create_engine, MetaData, Table, Column, Integer, String, Boolean, DateTime\n",
    "import psycopg2\n",
    "from gensim.models import CoherenceModel, LdaModel\n",
    "from gensim import corpora"
   ]
  },
  {
   "attachments": {},
   "cell_type": "markdown",
   "metadata": {},
   "source": [
    "#### Data Acquisition: PostgreSQL"
   ]
  },
  {
   "cell_type": "code",
   "execution_count": null,
   "metadata": {},
   "outputs": [],
   "source": [
    "# # Fetching the password from environment variable\n",
    "# db_password = os.environ.get('DATABASE_PASSWORD')\n",
    "\n",
    "# # Ensure the password is set\n",
    "# if db_password is None:\n",
    "#     raise ValueError(\"Database password environment variable not set\")\n",
    "\n",
    "# # Database connection details\n",
    "# username = 'postgres'  # replace with your username\n",
    "# host = 'localhost'\n",
    "# database = 'customer_support'\n",
    "# db_password = 'DePorLo******'\n",
    "\n",
    "# # Creating database connection URL\n",
    "# db_url = f\"postgresql://{username}:{db_password}@{host}/{database}\"\n",
    "\n",
    "# # Create a database engine\n",
    "# engine = create_engine(db_url)\n",
    "\n",
    "# # testing the connection\n",
    "# try:\n",
    "#     with engine.connect() as conn:\n",
    "#         print(\"Successfully connected to the database!\")\n",
    "# except Exception as e:\n",
    "#     print(f\"An error occurred: {e}\")\n"
   ]
  },
  {
   "cell_type": "code",
   "execution_count": null,
   "metadata": {},
   "outputs": [],
   "source": [
    "# # creating table - define metadata\n",
    "# metadata = MetaData()\n",
    "\n",
    "# # Define the 'tweets' table\n",
    "# tweets_table = Table('tweets', metadata,\n",
    "#                      Column('tweet_id', Integer, primary_key=True),\n",
    "#                      Column('author_id', String),\n",
    "#                      Column('inbound', Boolean),\n",
    "#                      Column('created_at', DateTime),\n",
    "#                      Column('text', String),\n",
    "#                      Column('response_tweet_id', Integer),\n",
    "#                      Column('in_response_to_tweet_id', Integer)\n",
    "#                     )\n",
    "\n",
    "# # creating the table\n",
    "# metadata.create_all(engine)"
   ]
  },
  {
   "cell_type": "code",
   "execution_count": null,
   "metadata": {},
   "outputs": [],
   "source": [
    "# conn_info = \"dbname='customer_support' user='postgres' host='localhost' password='DePorLo*****'\"\n",
    "# conn = psycopg2.connect(conn_info)\n",
    "# cur = conn.cursor()\n",
    "\n",
    "# with open('../data/raw/twcs.csv', 'r') as f:\n",
    "#     cur.copy_expert(\"COPY tweets FROM STDIN WITH CSV HEADER\", f)\n",
    "#     conn.commit()\n",
    "\n",
    "# cur.close()\n",
    "# conn.close()"
   ]
  },
  {
   "cell_type": "code",
   "execution_count": 9,
   "metadata": {},
   "outputs": [
    {
     "name": "stdout",
     "output_type": "stream",
     "text": [
      "Database password loaded successfully\n"
     ]
    }
   ],
   "source": [
    "dotenv_path = os.path.join(os.getcwd(), '.env')\n",
    "# Load the .env file\n",
    "dotenv.load_dotenv(dotenv_path)\n",
    "\n",
    "# Retrieve the environment variable\n",
    "db_password = os.environ.get('DATABASE_PASSWORD')\n",
    "if db_password is None:\n",
    "    raise ValueError(\"Database password environment variable not set\")\n",
    "else:\n",
    "    print(\"Database password loaded successfully\")"
   ]
  },
  {
   "cell_type": "code",
   "execution_count": 4,
   "metadata": {},
   "outputs": [
    {
     "name": "stderr",
     "output_type": "stream",
     "text": [
      "2023-11-22 20:49:02,119 - INFO - Database engine created successfully\n",
      "2023-11-22 20:49:02,169 - INFO - Successfully connected to the database\n",
      "2023-11-22 20:49:02,170 - INFO - Starting function execution: sample_data\n"
     ]
    }
   ],
   "source": [
    "DB_USERNAME = 'postgres'\n",
    "DB_PASSWORD = os.environ.get('DATABASE_PASSWORD')\n",
    "DB_HOST = 'localhost'\n",
    "DB_NAME = 'customer_support'\n",
    "SAMPLE_QUERY = \"SELECT * FROM tweets ORDER BY RANDOM() LIMIT 250000;\"\n",
    "\n",
    "# Setup logging\n",
    "logging.basicConfig(level=logging.INFO, format='%(asctime)s - %(levelname)s - %(message)s')\n",
    "\n",
    "# Function to create a database engine\n",
    "def create_db_engine(username, password, host, database):\n",
    "    try:\n",
    "        db_url = f\"postgresql://{username}:{password}@{host}/{database}\"\n",
    "        engine = create_engine(db_url)\n",
    "        logging.info(\"Database engine created successfully\")\n",
    "        return engine\n",
    "    except Exception as e:\n",
    "        logging.error(f\"Error creating database engine: {e}\")\n",
    "        raise\n",
    "\n",
    "# Function to test database connection\n",
    "def test_db_connection(engine):\n",
    "    try:\n",
    "        with engine.connect() as conn:\n",
    "            logging.info(\"Successfully connected to the database\")\n",
    "    except Exception as e:\n",
    "        logging.error(f\"An error occurred while connecting to the database: {e}\")\n",
    "        raise\n",
    "\n",
    "# Fetching the password from environment variable\n",
    "db_password = os.environ.get('DATABASE_PASSWORD')\n",
    "if db_password is None:\n",
    "    raise ValueError(\"Database password environment variable not set\")\n",
    "\n",
    "# creating engine and testing\n",
    "engine = create_db_engine(DB_USERNAME, DB_PASSWORD, DB_HOST, DB_NAME)\n",
    "test_db_connection(engine)\n",
    "\n",
    "# function to sample data\n",
    "def sample_data(conn, query):\n",
    "    \"\"\"Sample data from the database.\n",
    "    conn: connection previously created for the database.\n",
    "    query: PostgreSQL query to sample the data.\n",
    "    Returns: dataframe.\n",
    "    \"\"\"\n",
    "\n",
    "    try:\n",
    "        logging.info(\"Starting function execution: sample_data\")\n",
    "        return pd.read_sql_query(query, conn)\n",
    "    except Exception as e:\n",
    "        logging.error(f\"Error in your_function: {e}\")\n",
    "        raise\n",
    "    else:\n",
    "        logging.info(\"Completed execution of function: sample_data\")\n",
    "    \n",
    "# executing function to sample data and save it to folder as csv\n",
    "sampled_data = sample_data(engine, SAMPLE_QUERY)\n",
    "sampled_data.to_csv('../data/raw/df_sample.csv', index=False)\n"
   ]
  },
  {
   "attachments": {},
   "cell_type": "markdown",
   "metadata": {},
   "source": [
    "### Data Loading: \n",
    "\n",
    "We retrieved the raw data from kaggle. Then, we will load it to the variable df"
   ]
  },
  {
   "cell_type": "code",
   "execution_count": 10,
   "metadata": {},
   "outputs": [
    {
     "name": "stderr",
     "output_type": "stream",
     "text": [
      "2023-11-22 22:14:42,796 - INFO - Starting execution of load_data\n",
      "2023-11-22 22:14:43,724 - INFO - Data loading completed successfully\n"
     ]
    },
    {
     "data": {
      "text/html": [
       "<div>\n",
       "<style scoped>\n",
       "    .dataframe tbody tr th:only-of-type {\n",
       "        vertical-align: middle;\n",
       "    }\n",
       "\n",
       "    .dataframe tbody tr th {\n",
       "        vertical-align: top;\n",
       "    }\n",
       "\n",
       "    .dataframe thead th {\n",
       "        text-align: right;\n",
       "    }\n",
       "</style>\n",
       "<table border=\"1\" class=\"dataframe\">\n",
       "  <thead>\n",
       "    <tr style=\"text-align: right;\">\n",
       "      <th></th>\n",
       "      <th>tweet_id</th>\n",
       "      <th>author_id</th>\n",
       "      <th>inbound</th>\n",
       "      <th>created_at</th>\n",
       "      <th>text</th>\n",
       "      <th>response_tweet_id</th>\n",
       "      <th>in_response_to_tweet_id</th>\n",
       "    </tr>\n",
       "  </thead>\n",
       "  <tbody>\n",
       "    <tr>\n",
       "      <th>0</th>\n",
       "      <td>2149594</td>\n",
       "      <td>Tesco</td>\n",
       "      <td>False</td>\n",
       "      <td>2017-11-09 00:55:53</td>\n",
       "      <td>@535047 Can you please confirm the requested d...</td>\n",
       "      <td>NaN</td>\n",
       "      <td>2149595.0</td>\n",
       "    </tr>\n",
       "    <tr>\n",
       "      <th>1</th>\n",
       "      <td>1561881</td>\n",
       "      <td>482478</td>\n",
       "      <td>True</td>\n",
       "      <td>2017-11-04 04:57:53</td>\n",
       "      <td>What's with the pricing @GoDaddyHelp?\\n$12.96....</td>\n",
       "      <td>1561882,1561883,1561880</td>\n",
       "      <td>NaN</td>\n",
       "    </tr>\n",
       "    <tr>\n",
       "      <th>2</th>\n",
       "      <td>1956537</td>\n",
       "      <td>SpotifyCares</td>\n",
       "      <td>False</td>\n",
       "      <td>2017-10-30 17:24:43</td>\n",
       "      <td>@580626 Hey Henry! It's an easter egg for the ...</td>\n",
       "      <td>NaN</td>\n",
       "      <td>1956538.0</td>\n",
       "    </tr>\n",
       "    <tr>\n",
       "      <th>3</th>\n",
       "      <td>1495379</td>\n",
       "      <td>AskCiti</td>\n",
       "      <td>False</td>\n",
       "      <td>2017-11-05 00:32:31</td>\n",
       "      <td>@467204 Hello. We haven't heard from u. If u s...</td>\n",
       "      <td>NaN</td>\n",
       "      <td>1495377.0</td>\n",
       "    </tr>\n",
       "    <tr>\n",
       "      <th>4</th>\n",
       "      <td>582530</td>\n",
       "      <td>ATVIAssist</td>\n",
       "      <td>False</td>\n",
       "      <td>2017-12-03 13:19:03</td>\n",
       "      <td>@257338 Apologies for the delay, please provid...</td>\n",
       "      <td>NaN</td>\n",
       "      <td>582531.0</td>\n",
       "    </tr>\n",
       "    <tr>\n",
       "      <th>5</th>\n",
       "      <td>2077646</td>\n",
       "      <td>135058</td>\n",
       "      <td>True</td>\n",
       "      <td>2017-10-09 07:41:35</td>\n",
       "      <td>@AppleSupport hey, I didn’t use a flashlight m...</td>\n",
       "      <td>2077647,2077645</td>\n",
       "      <td>NaN</td>\n",
       "    </tr>\n",
       "    <tr>\n",
       "      <th>6</th>\n",
       "      <td>1067207</td>\n",
       "      <td>371845</td>\n",
       "      <td>True</td>\n",
       "      <td>2017-10-14 20:26:51</td>\n",
       "      <td>@115888 funny how a song that brags about sayi...</td>\n",
       "      <td>1067206</td>\n",
       "      <td>NaN</td>\n",
       "    </tr>\n",
       "    <tr>\n",
       "      <th>7</th>\n",
       "      <td>2792850</td>\n",
       "      <td>UPSHelp</td>\n",
       "      <td>False</td>\n",
       "      <td>2017-11-21 21:08:00</td>\n",
       "      <td>@779420 Also, with your phone number I can fil...</td>\n",
       "      <td>2792851</td>\n",
       "      <td>2792852.0</td>\n",
       "    </tr>\n",
       "    <tr>\n",
       "      <th>8</th>\n",
       "      <td>2181045</td>\n",
       "      <td>639075</td>\n",
       "      <td>True</td>\n",
       "      <td>2017-11-09 18:31:34</td>\n",
       "      <td>@VirginTrains Now I'm connected and slow! Not ...</td>\n",
       "      <td>2181046</td>\n",
       "      <td>2181044.0</td>\n",
       "    </tr>\n",
       "    <tr>\n",
       "      <th>9</th>\n",
       "      <td>2737067</td>\n",
       "      <td>comcastcares</td>\n",
       "      <td>False</td>\n",
       "      <td>2017-11-20 20:39:51</td>\n",
       "      <td>@766954 The last DM from you was in July. We w...</td>\n",
       "      <td>NaN</td>\n",
       "      <td>2737065.0</td>\n",
       "    </tr>\n",
       "  </tbody>\n",
       "</table>\n",
       "</div>"
      ],
      "text/plain": [
       "   tweet_id     author_id  inbound           created_at   \n",
       "0   2149594         Tesco    False  2017-11-09 00:55:53  \\\n",
       "1   1561881        482478     True  2017-11-04 04:57:53   \n",
       "2   1956537  SpotifyCares    False  2017-10-30 17:24:43   \n",
       "3   1495379       AskCiti    False  2017-11-05 00:32:31   \n",
       "4    582530    ATVIAssist    False  2017-12-03 13:19:03   \n",
       "5   2077646        135058     True  2017-10-09 07:41:35   \n",
       "6   1067207        371845     True  2017-10-14 20:26:51   \n",
       "7   2792850       UPSHelp    False  2017-11-21 21:08:00   \n",
       "8   2181045        639075     True  2017-11-09 18:31:34   \n",
       "9   2737067  comcastcares    False  2017-11-20 20:39:51   \n",
       "\n",
       "                                                text        response_tweet_id   \n",
       "0  @535047 Can you please confirm the requested d...                      NaN  \\\n",
       "1  What's with the pricing @GoDaddyHelp?\\n$12.96....  1561882,1561883,1561880   \n",
       "2  @580626 Hey Henry! It's an easter egg for the ...                      NaN   \n",
       "3  @467204 Hello. We haven't heard from u. If u s...                      NaN   \n",
       "4  @257338 Apologies for the delay, please provid...                      NaN   \n",
       "5  @AppleSupport hey, I didn’t use a flashlight m...          2077647,2077645   \n",
       "6  @115888 funny how a song that brags about sayi...                  1067206   \n",
       "7  @779420 Also, with your phone number I can fil...                  2792851   \n",
       "8  @VirginTrains Now I'm connected and slow! Not ...                  2181046   \n",
       "9  @766954 The last DM from you was in July. We w...                      NaN   \n",
       "\n",
       "   in_response_to_tweet_id  \n",
       "0                2149595.0  \n",
       "1                      NaN  \n",
       "2                1956538.0  \n",
       "3                1495377.0  \n",
       "4                 582531.0  \n",
       "5                      NaN  \n",
       "6                      NaN  \n",
       "7                2792852.0  \n",
       "8                2181044.0  \n",
       "9                2737065.0  "
      ]
     },
     "execution_count": 10,
     "metadata": {},
     "output_type": "execute_result"
    }
   ],
   "source": [
    "# file path\n",
    "file_path = '../data/raw/df_sample.csv'\n",
    "\n",
    "#function to load\n",
    "def load_data(file_path, chunk_size=1000):\n",
    "    \"\"\"\n",
    "    Load data from a CSV file in chunks to manage memory usage.\n",
    "    \"\"\"\n",
    "    try:\n",
    "        logging.info(\"Starting execution of load_data\")\n",
    "        chunk_list = []\n",
    "        for chunk in pd.read_csv(file_path, chunksize=chunk_size):\n",
    "            chunk_list.append(chunk)\n",
    "        df = pd.concat(chunk_list, ignore_index=True)\n",
    "        logging.info(\"Data loading completed successfully\")\n",
    "        return df\n",
    "    except Exception as e:\n",
    "        logging.error(f\"Error loading data from %s: %s:\", file_path, e)\n",
    "        return None\n",
    "\n",
    "# loading data to df\n",
    "df = load_data(file_path=file_path)\n",
    "# checking dataframe \n",
    "df.head(10)"
   ]
  },
  {
   "attachments": {},
   "cell_type": "markdown",
   "metadata": {},
   "source": [
    "#### Data Cleaning: \n",
    "\n",
    "Below we clean the data as a preparation for exploring it in EDA further below."
   ]
  },
  {
   "cell_type": "code",
   "execution_count": 11,
   "metadata": {},
   "outputs": [
    {
     "name": "stderr",
     "output_type": "stream",
     "text": [
      "2023-11-22 22:14:52,293 - INFO - Text cleaning completed successfully\n"
     ]
    }
   ],
   "source": [
    "# function to perform basic cleaning text for more advanced cleaning and preprocessing\n",
    "def custom_clean_text(text):\n",
    "    \"\"\"\n",
    "    Perform custom cleaning of text data.\n",
    "\n",
    "    Args:\n",
    "    text (str): The text to be cleaned.\n",
    "\n",
    "    Returns:\n",
    "    str: Cleaned text.\n",
    "    \"\"\"\n",
    "    try:\n",
    "        # Decode HTML entities\n",
    "        text = html.unescape(text)\n",
    "        # Remove URLs\n",
    "        text = re.sub(r'http\\S+', '', text)\n",
    "        # Remove user mentions and hashtags\n",
    "        text = re.sub(r'@\\w+', '', text)\n",
    "        text = re.sub(r'#\\w+', '', text)\n",
    "        # Remove special characters\n",
    "        text = re.sub(r'[^a-zA-Z\\s]', ' ', text)\n",
    "        # Remove extra spaces, new lines\n",
    "        text = ' '.join(text.split())\n",
    "        # Convert to lowercase\n",
    "        text = text.lower()\n",
    "        return text\n",
    "    except Exception as e:\n",
    "        logging.error(f\"Error in cleaning text: {e}\")\n",
    "        # Optionally, you can return None or some default value if error occurs\n",
    "        return None\n",
    "\n",
    "# error handling testing function\n",
    "try:\n",
    "    df['cleaned_text'] = df['text'].apply(custom_clean_text)\n",
    "    logging.info(\"Text cleaning completed successfully\")\n",
    "except Exception as e:\n",
    "    logging.error(f\"Error during text cleaning process: {e}\")\n",
    "\n",
    "# dropping columns\n",
    "df.dropna(subset=['text', 'created_at'], inplace=True)\n",
    "df.drop_duplicates(subset=['tweet_id'], inplace=True)\n",
    "df['created_at'] = pd.to_datetime(df['created_at'])\n"
   ]
  },
  {
   "cell_type": "code",
   "execution_count": 12,
   "metadata": {},
   "outputs": [
    {
     "name": "stdout",
     "output_type": "stream",
     "text": [
      "<class 'pandas.core.frame.DataFrame'>\n",
      "RangeIndex: 250000 entries, 0 to 249999\n",
      "Data columns (total 8 columns):\n",
      " #   Column                   Non-Null Count   Dtype         \n",
      "---  ------                   --------------   -----         \n",
      " 0   tweet_id                 250000 non-null  int64         \n",
      " 1   author_id                250000 non-null  object        \n",
      " 2   inbound                  250000 non-null  bool          \n",
      " 3   created_at               250000 non-null  datetime64[ns]\n",
      " 4   text                     250000 non-null  object        \n",
      " 5   response_tweet_id        157212 non-null  object        \n",
      " 6   in_response_to_tweet_id  179666 non-null  float64       \n",
      " 7   cleaned_text             250000 non-null  object        \n",
      "dtypes: bool(1), datetime64[ns](1), float64(1), int64(1), object(4)\n",
      "memory usage: 13.6+ MB\n"
     ]
    }
   ],
   "source": [
    "df.info()"
   ]
  },
  {
   "cell_type": "code",
   "execution_count": 13,
   "metadata": {},
   "outputs": [],
   "source": [
    "# initializing spacy \n",
    "nlp = spacy.load('en_core_web_sm')"
   ]
  },
  {
   "cell_type": "code",
   "execution_count": 14,
   "metadata": {},
   "outputs": [
    {
     "name": "stderr",
     "output_type": "stream",
     "text": [
      "/var/folders/fk/kvpxv24d2ys_slgf4kqk23f40000gn/T/ipykernel_50541/1154690766.py:20: DeprecationWarning: [W107] The property `Doc.is_parsed` is deprecated. Use `Doc.has_annotation(\"DEP\")` instead.\n",
      "  if doc.is_parsed:\n",
      "2023-11-22 23:19:39,748 - INFO - Spacy batch processing completed successfully\n"
     ]
    }
   ],
   "source": [
    "# batch processing with spacy: advanced NLP preprocessing\n",
    "\n",
    "def batch_spacy_preprocessing(texts, batch_size=1000):\n",
    "    \"\"\"\n",
    "    Process a batch of texts using SpaCy for NLP tasks such as lemmatization, \n",
    "    part-of-speech tagging, and dependency parsing.\n",
    "    Args:\n",
    "    texts (list of str): A list of texts to be processed.\n",
    "    batch_size (int): The number of texts to process in each batch.\n",
    "    Returns:\n",
    "    tuple: Three lists containing the processed texts, POS tags, and dependency parses.\n",
    "    \"\"\"\n",
    "    try:\n",
    "        # Load SpaCy model\n",
    "        nlp = spacy.load('en_core_web_sm')\n",
    "        processed_texts, pos_tags, dep_parses = [], [], []\n",
    "\n",
    "        # Process texts in batches\n",
    "        for doc in nlp.pipe(texts, batch_size=batch_size):\n",
    "            if doc.is_parsed:\n",
    "                doc_lemmas = [token.lemma_ for token in doc if not token.is_stop]\n",
    "                doc_pos_tags = [token.pos_ for token in doc]\n",
    "                doc_dep_parse = [token.dep_ for token in doc]\n",
    "            else:\n",
    "                doc_lemmas, doc_pos_tags, doc_dep_parse = None, None, None\n",
    "\n",
    "            processed_texts.append(' '.join(doc_lemmas) if doc_lemmas else None)\n",
    "            pos_tags.append(doc_pos_tags)\n",
    "            dep_parses.append(doc_dep_parse)\n",
    "\n",
    "        logging.info(\"Spacy batch processing completed successfully\")\n",
    "        return processed_texts, pos_tags, dep_parses\n",
    "    except Exception as e:\n",
    "        logging.error(f\"Error in Spacy batch processing: {e}\")\n",
    "        # Optionally return a default value or empty lists if error occurs\n",
    "        return [], [], []\n",
    "\n",
    "# apply spacy batch processing\n",
    "texts = df['text'].astype(str).tolist()\n",
    "df['processed_text'], df['pos_tags'], df['dep_parse'] = batch_spacy_preprocessing(texts)"
   ]
  },
  {
   "cell_type": "code",
   "execution_count": 15,
   "metadata": {},
   "outputs": [
    {
     "name": "stderr",
     "output_type": "stream",
     "text": [
      "[nltk_data] Downloading package vader_lexicon to\n",
      "[nltk_data]     /Users/camilods16/nltk_data...\n",
      "[nltk_data]   Package vader_lexicon is already up-to-date!\n"
     ]
    }
   ],
   "source": [
    "nltk.download('vader_lexicon')\n",
    "\n",
    "# initialize SentimentIntensityAnalyzer\n",
    "sia = SentimentIntensityAnalyzer()\n",
    "\n",
    "# Apply sentiment analysis to the processed text\n",
    "df['sentiment'] = df['processed_text'].apply(lambda x: sia.polarity_scores(x)['compound'] if x else 0)"
   ]
  },
  {
   "cell_type": "code",
   "execution_count": 16,
   "metadata": {},
   "outputs": [
    {
     "name": "stderr",
     "output_type": "stream",
     "text": [
      "2023-11-23 09:42:06,833 - INFO - Queries and responses linked successfully\n"
     ]
    }
   ],
   "source": [
    "# defining functions for linking customer queries with responses\n",
    "def link_queries_responses(df):\n",
    "    \"\"\"\n",
    "    Link inbound queries with their corresponding outbound responses in a DataFrame.\n",
    "    df (pd.DataFrame): DataFrame containing customer support data with 'inbound', \n",
    "                       'tweet_id', and 'in_response_to_tweet_id' columns.\n",
    "    Returns:\n",
    "    pd.DataFrame: A DataFrame with linked inbound and outbound queries.\n",
    "    \"\"\"\n",
    "    try:\n",
    "        # Filter for inbound and outbound tweets\n",
    "        df_inbound = df[df['inbound'] == True]\n",
    "        df_outbound = df[df['inbound'] == False]\n",
    "\n",
    "        # Merge inbound and outbound dataframes\n",
    "        df_linked = pd.merge(df_inbound, df_outbound, left_on='tweet_id', right_on='in_response_to_tweet_id', how='left', suffixes=('_inbound', '_outbound'))\n",
    "\n",
    "        logging.info(\"Queries and responses linked successfully\")\n",
    "        return df_linked\n",
    "    except Exception as e:\n",
    "        logging.error(f\"Error in linking queries and responses: {e}\")\n",
    "        # raise the exception\n",
    "        raise e\n",
    "\n",
    "\n",
    "# creating a df of inbound queries and their responses by linking them\n",
    "df_linked = link_queries_responses(df)"
   ]
  },
  {
   "cell_type": "code",
   "execution_count": 66,
   "metadata": {},
   "outputs": [],
   "source": [
    "# NER with SpaCy\n",
    "def advanced_text_analysis(df):\n",
    "    \"\"\"\n",
    "    Perform advanced text analysis for sentiment and Named Entity Recognition (NER) on a DataFrame.\n",
    "    df (pd.DataFrame): DataFrame containing a column 'processed_text' for analysis.\n",
    "    Returns:\n",
    "    pd.DataFrame: The input DataFrame with an additional 'entities' column containing NER results.\n",
    "    \"\"\"\n",
    "    try:\n",
    "        # apply Named Entity Recognition\n",
    "        df['entities'] = df['processed_text'].apply(lambda x: [(ent.text, ent.label_) for ent in nlp(x).ents] if x else [])\n",
    "        logging.info(\"Advanced text analysis (NER) completed successfully\")\n",
    "        return df\n",
    "    except Exception as e:\n",
    "        logging.error(f\"Error in advanced text analysis: {e}\")\n",
    "        # raise the exception\n",
    "        raise e\n",
    "\n",
    "# applying function\n",
    "df = advanced_text_analysis(df)"
   ]
  },
  {
   "cell_type": "code",
   "execution_count": 23,
   "metadata": {},
   "outputs": [
    {
     "name": "stderr",
     "output_type": "stream",
     "text": [
      "2023-11-23 11:09:02,810 - INFO - Sentiment classification applied successfully\n"
     ]
    }
   ],
   "source": [
    "# creating a column sentiment_class\n",
    "def classify_sentiment(score):\n",
    "    \"\"\"\n",
    "    Classify the sentiment of the tweets based on a sentiment score.\n",
    "    Returns 'Positive', 'Negative', or 'Neutral' based on the score.\n",
    "    score (float): The sentiment score to classify.\n",
    "    Returns:\n",
    "    str: The sentiment classification ('Positive', 'Negative', 'Neutral').\n",
    "    \"\"\"\n",
    "    try:\n",
    "        if score > 0.1:\n",
    "            return 'Positive'\n",
    "        elif score < -0.1:\n",
    "            return 'Negative'\n",
    "        else:\n",
    "            return 'Neutral'\n",
    "    except Exception as e:\n",
    "        logging.error(f\"Error in classifying sentiment: {e}\")\n",
    "        # Optionally, return a default classification or raise the exception\n",
    "        return 'Neutral'  # or, raise e\n",
    "\n",
    "# applying sentiment classification with threshold\n",
    "try:\n",
    "    df['sentiment_class'] = df['sentiment'].apply(classify_sentiment)\n",
    "    logging.info(\"Sentiment classification applied successfully\")\n",
    "except Exception as e:\n",
    "    logging.error(f\"Error applying sentiment classification to DataFrame: {e}\")\n"
   ]
  },
  {
   "attachments": {},
   "cell_type": "markdown",
   "metadata": {},
   "source": [
    "#### EDA: Exploratory Data Analysis\n",
    "\n",
    "In this stage we take the data previously cleaned and we start aggregating when necessary to create visualizations that will provide insights from the data. "
   ]
  },
  {
   "cell_type": "code",
   "execution_count": 36,
   "metadata": {},
   "outputs": [
    {
     "data": {
      "image/png": "[encoded data removed]",
      "text/plain": [
       "<Figure size 640x480 with 1 Axes>"
      ]
     },
     "metadata": {},
     "output_type": "display_data"
    }
   ],
   "source": [
    "# EDA Functions\n",
    "def plot_tweet_distribution(df, column='inbound'):\n",
    "    \"\"\"\n",
    "    Visualize the distribution of tweets.\n",
    "    \"\"\"\n",
    "    sns.countplot(x=column, data=df)\n",
    "    plt.title(f'Distribution of {column.capitalize()} Tweets')\n",
    "    plt.show()\n",
    "\n",
    "# plotting the distribution\n",
    "plot_tweet_distribution(df=df)"
   ]
  },
  {
   "cell_type": "code",
   "execution_count": 37,
   "metadata": {},
   "outputs": [
    {
     "data": {
      "image/png": "[encoded data removed]",
      "text/plain": [
       "<Figure size 640x480 with 1 Axes>"
      ]
     },
     "metadata": {},
     "output_type": "display_data"
    }
   ],
   "source": [
    "# conversation flow analysis plot\n",
    "def conversation_flow_analysis(df):\n",
    "    \"\"\"\n",
    "    Analyze the flow of conversations by looking at response delays.\n",
    "    \"\"\"\n",
    "    df['response_delay'] = (df['created_at_outbound'] - df['created_at_inbound']).dt.total_seconds() / 60\n",
    "    sns.histplot(df['response_delay'], bins=30)\n",
    "    plt.title('Response Delay Distribution')\n",
    "    plt.xlabel('Minutes')\n",
    "    plt.show()\n",
    "\n",
    "conversation_flow_analysis(df=df_linked)"
   ]
  },
  {
   "cell_type": "code",
   "execution_count": 38,
   "metadata": {},
   "outputs": [
    {
     "data": {
      "image/png": "[encoded data removed]",
      "text/plain": [
       "<Figure size 1200x600 with 1 Axes>"
      ]
     },
     "metadata": {},
     "output_type": "display_data"
    }
   ],
   "source": [
    "# Plotting the frequency distribution of brands (author_id)\n",
    "brand_counts = df['author_id'].value_counts().head(20)  # Top 20 brands\n",
    "plt.figure(figsize=(12, 6))\n",
    "sns.barplot(x=brand_counts.values, y=brand_counts.index, palette='crest')\n",
    "plt.title('Top 20 Brands by Tweet Count')\n",
    "plt.xlabel('Number of Tweets From Support')\n",
    "plt.ylabel('Brands')\n",
    "plt.show() "
   ]
  },
  {
   "cell_type": "code",
   "execution_count": 64,
   "metadata": {},
   "outputs": [
    {
     "data": {
      "application/vnd.plotly.v1+json": {
       "config": {
        "plotlyServerURL": "https://plot.ly"
       },
       "data": [
        {
         "hovertemplate": "created_at=%{x}<br>rolling_sentiment=%{y}<extra></extra>",
         "legendgroup": "",
         "line": {
          "color": "#636efa",
          "dash": "solid"
         },
         "marker": {
          "symbol": "circle"
         },
         "mode": "lines",
         "name": "",
         "orientation": "v",
         "showlegend": false,
         "type": "scatter",
         "x": [
          "2012-09-30T00:00:00",
          "2012-10-31T00:00:00",
          "2012-11-30T00:00:00",
          "2012-12-31T00:00:00",
          "2013-01-31T00:00:00",
          "2013-02-28T00:00:00",
          "2013-03-31T00:00:00",
          "2013-04-30T00:00:00",
          "2013-05-31T00:00:00",
          "2013-06-30T00:00:00",
          "2013-07-31T00:00:00",
          "2013-08-31T00:00:00",
          "2013-09-30T00:00:00",
          "2013-10-31T00:00:00",
          "2013-11-30T00:00:00",
          "2013-12-31T00:00:00",
          "2014-01-31T00:00:00",
          "2014-02-28T00:00:00",
          "2014-03-31T00:00:00",
          "2014-04-30T00:00:00",
          "2014-05-31T00:00:00",
          "2014-06-30T00:00:00",
          "2014-07-31T00:00:00",
          "2014-08-31T00:00:00",
          "2014-09-30T00:00:00",
          "2014-10-31T00:00:00",
          "2014-11-30T00:00:00",
          "2014-12-31T00:00:00",
          "2015-01-31T00:00:00",
          "2015-02-28T00:00:00",
          "2015-03-31T00:00:00",
          "2015-04-30T00:00:00",
          "2015-05-31T00:00:00",
          "2015-06-30T00:00:00",
          "2015-07-31T00:00:00",
          "2015-08-31T00:00:00",
          "2015-09-30T00:00:00",
          "2015-10-31T00:00:00",
          "2015-11-30T00:00:00",
          "2015-12-31T00:00:00",
          "2016-01-31T00:00:00",
          "2016-02-29T00:00:00",
          "2016-03-31T00:00:00",
          "2016-04-30T00:00:00",
          "2016-05-31T00:00:00",
          "2016-06-30T00:00:00",
          "2016-07-31T00:00:00",
          "2016-08-31T00:00:00",
          "2016-09-30T00:00:00",
          "2016-10-31T00:00:00",
          "2016-11-30T00:00:00",
          "2016-12-31T00:00:00",
          "2017-01-31T00:00:00",
          "2017-02-28T00:00:00",
          "2017-03-31T00:00:00",
          "2017-04-30T00:00:00",
          "2017-05-31T00:00:00",
          "2017-06-30T00:00:00",
          "2017-07-31T00:00:00",
          "2017-08-31T00:00:00",
          "2017-09-30T00:00:00",
          "2017-10-31T00:00:00",
          "2017-11-30T00:00:00",
          "2017-12-31T00:00:00"
         ],
         "xaxis": "x",
         "y": [
          -0.010133333333333328,
          -0.010133333333333328,
          0.31248333333333334,
          0.31248333333333334,
          0.20832222222222221,
          0.3491666666666667,
          0.41127333333333327,
          0.5166249999999999,
          0.5013799999999999,
          0.46795000000000003,
          0.46795000000000003,
          0.44227500000000003,
          0.32413749999999997,
          0.3213625,
          0.33747,
          0.24939,
          0.2112166666666667,
          0.2112166666666667,
          0.2283333333333333,
          0.2967416666666667,
          0.24884166666666666,
          0.23989722222222223,
          0.24633055555555558,
          0.13560555555555556,
          0.10886190476190476,
          0.16907619047619046,
          0.1099904761904762,
          0.0500047619047619,
          0.05181428571428571,
          0.046299999999999994,
          0.1383,
          0.1720809523809524,
          0.1310047619047619,
          0.1378047619047619,
          0.21287619047619044,
          0.20826190476190473,
          0.2518154761904762,
          0.28825119047619047,
          0.28452261904761905,
          0.3308880952380952,
          0.27956666666666663,
          0.2685015873015873,
          0.23306825396825398,
          0.19791349206349204,
          0.1589063492063492,
          0.13568253968253968,
          0.07450753968253968,
          0.09437539682539682,
          0.048294761904761896,
          0.08997184523809522,
          0.09742177521008401,
          0.12276463235294115,
          0.15077203976034856,
          0.1904382051738824,
          0.20127431628499348,
          0.2246986019992792,
          0.19833384359591788,
          0.21658189710303502,
          0.2185788358785452,
          0.21472184863920502,
          0.19076426224629625,
          0.18373659690534755,
          0.17417686423195514,
          0.17125155151664923
         ],
         "yaxis": "y"
        }
       ],
       "layout": {
        "legend": {
         "tracegroupgap": 0
        },
        "template": {
         "data": {
          "bar": [
           {
            "error_x": {
             "color": "#2a3f5f"
            },
            "error_y": {
             "color": "#2a3f5f"
            },
            "marker": {
             "line": {
              "color": "#E5ECF6",
              "width": 0.5
             },
             "pattern": {
              "fillmode": "overlay",
              "size": 10,
              "solidity": 0.2
             }
            },
            "type": "bar"
           }
          ],
          "barpolar": [
           {
            "marker": {
             "line": {
              "color": "#E5ECF6",
              "width": 0.5
             },
             "pattern": {
              "fillmode": "overlay",
              "size": 10,
              "solidity": 0.2
             }
            },
            "type": "barpolar"
           }
          ],
          "carpet": [
           {
            "aaxis": {
             "endlinecolor": "#2a3f5f",
             "gridcolor": "white",
             "linecolor": "white",
             "minorgridcolor": "white",
             "startlinecolor": "#2a3f5f"
            },
            "baxis": {
             "endlinecolor": "#2a3f5f",
             "gridcolor": "white",
             "linecolor": "white",
             "minorgridcolor": "white",
             "startlinecolor": "#2a3f5f"
            },
            "type": "carpet"
           }
          ],
          "choropleth": [
           {
            "colorbar": {
             "outlinewidth": 0,
             "ticks": ""
            },
            "type": "choropleth"
           }
          ],
          "contour": [
           {
            "colorbar": {
             "outlinewidth": 0,
             "ticks": ""
            },
            "colorscale": [
             [
              0,
              "#0d0887"
             ],
             [
              0.1111111111111111,
              "#46039f"
             ],
             [
              0.2222222222222222,
              "#7201a8"
             ],
             [
              0.3333333333333333,
              "#9c179e"
             ],
             [
              0.4444444444444444,
              "#bd3786"
             ],
             [
              0.5555555555555556,
              "#d8576b"
             ],
             [
              0.6666666666666666,
              "#ed7953"
             ],
             [
              0.7777777777777778,
              "#fb9f3a"
             ],
             [
              0.8888888888888888,
              "#fdca26"
             ],
             [
              1,
              "#f0f921"
             ]
            ],
            "type": "contour"
           }
          ],
          "contourcarpet": [
           {
            "colorbar": {
             "outlinewidth": 0,
             "ticks": ""
            },
            "type": "contourcarpet"
           }
          ],
          "heatmap": [
           {
            "colorbar": {
             "outlinewidth": 0,
             "ticks": ""
            },
            "colorscale": [
             [
              0,
              "#0d0887"
             ],
             [
              0.1111111111111111,
              "#46039f"
             ],
             [
              0.2222222222222222,
              "#7201a8"
             ],
             [
              0.3333333333333333,
              "#9c179e"
             ],
             [
              0.4444444444444444,
              "#bd3786"
             ],
             [
              0.5555555555555556,
              "#d8576b"
             ],
             [
              0.6666666666666666,
              "#ed7953"
             ],
             [
              0.7777777777777778,
              "#fb9f3a"
             ],
             [
              0.8888888888888888,
              "#fdca26"
             ],
             [
              1,
              "#f0f921"
             ]
            ],
            "type": "heatmap"
           }
          ],
          "heatmapgl": [
           {
            "colorbar": {
             "outlinewidth": 0,
             "ticks": ""
            },
            "colorscale": [
             [
              0,
              "#0d0887"
             ],
             [
              0.1111111111111111,
              "#46039f"
             ],
             [
              0.2222222222222222,
              "#7201a8"
             ],
             [
              0.3333333333333333,
              "#9c179e"
             ],
             [
              0.4444444444444444,
              "#bd3786"
             ],
             [
              0.5555555555555556,
              "#d8576b"
             ],
             [
              0.6666666666666666,
              "#ed7953"
             ],
             [
              0.7777777777777778,
              "#fb9f3a"
             ],
             [
              0.8888888888888888,
              "#fdca26"
             ],
             [
              1,
              "#f0f921"
             ]
            ],
            "type": "heatmapgl"
           }
          ],
          "histogram": [
           {
            "marker": {
             "pattern": {
              "fillmode": "overlay",
              "size": 10,
              "solidity": 0.2
             }
            },
            "type": "histogram"
           }
          ],
          "histogram2d": [
           {
            "colorbar": {
             "outlinewidth": 0,
             "ticks": ""
            },
            "colorscale": [
             [
              0,
              "#0d0887"
             ],
             [
              0.1111111111111111,
              "#46039f"
             ],
             [
              0.2222222222222222,
              "#7201a8"
             ],
             [
              0.3333333333333333,
              "#9c179e"
             ],
             [
              0.4444444444444444,
              "#bd3786"
             ],
             [
              0.5555555555555556,
              "#d8576b"
             ],
             [
              0.6666666666666666,
              "#ed7953"
             ],
             [
              0.7777777777777778,
              "#fb9f3a"
             ],
             [
              0.8888888888888888,
              "#fdca26"
             ],
             [
              1,
              "#f0f921"
             ]
            ],
            "type": "histogram2d"
           }
          ],
          "histogram2dcontour": [
           {
            "colorbar": {
             "outlinewidth": 0,
             "ticks": ""
            },
            "colorscale": [
             [
              0,
              "#0d0887"
             ],
             [
              0.1111111111111111,
              "#46039f"
             ],
             [
              0.2222222222222222,
              "#7201a8"
             ],
             [
              0.3333333333333333,
              "#9c179e"
             ],
             [
              0.4444444444444444,
              "#bd3786"
             ],
             [
              0.5555555555555556,
              "#d8576b"
             ],
             [
              0.6666666666666666,
              "#ed7953"
             ],
             [
              0.7777777777777778,
              "#fb9f3a"
             ],
             [
              0.8888888888888888,
              "#fdca26"
             ],
             [
              1,
              "#f0f921"
             ]
            ],
            "type": "histogram2dcontour"
           }
          ],
          "mesh3d": [
           {
            "colorbar": {
             "outlinewidth": 0,
             "ticks": ""
            },
            "type": "mesh3d"
           }
          ],
          "parcoords": [
           {
            "line": {
             "colorbar": {
              "outlinewidth": 0,
              "ticks": ""
             }
            },
            "type": "parcoords"
           }
          ],
          "pie": [
           {
            "automargin": true,
            "type": "pie"
           }
          ],
          "scatter": [
           {
            "fillpattern": {
             "fillmode": "overlay",
             "size": 10,
             "solidity": 0.2
            },
            "type": "scatter"
           }
          ],
          "scatter3d": [
           {
            "line": {
             "colorbar": {
              "outlinewidth": 0,
              "ticks": ""
             }
            },
            "marker": {
             "colorbar": {
              "outlinewidth": 0,
              "ticks": ""
             }
            },
            "type": "scatter3d"
           }
          ],
          "scattercarpet": [
           {
            "marker": {
             "colorbar": {
              "outlinewidth": 0,
              "ticks": ""
             }
            },
            "type": "scattercarpet"
           }
          ],
          "scattergeo": [
           {
            "marker": {
             "colorbar": {
              "outlinewidth": 0,
              "ticks": ""
             }
            },
            "type": "scattergeo"
           }
          ],
          "scattergl": [
           {
            "marker": {
             "colorbar": {
              "outlinewidth": 0,
              "ticks": ""
             }
            },
            "type": "scattergl"
           }
          ],
          "scattermapbox": [
           {
            "marker": {
             "colorbar": {
              "outlinewidth": 0,
              "ticks": ""
             }
            },
            "type": "scattermapbox"
           }
          ],
          "scatterpolar": [
           {
            "marker": {
             "colorbar": {
              "outlinewidth": 0,
              "ticks": ""
             }
            },
            "type": "scatterpolar"
           }
          ],
          "scatterpolargl": [
           {
            "marker": {
             "colorbar": {
              "outlinewidth": 0,
              "ticks": ""
             }
            },
            "type": "scatterpolargl"
           }
          ],
          "scatterternary": [
           {
            "marker": {
             "colorbar": {
              "outlinewidth": 0,
              "ticks": ""
             }
            },
            "type": "scatterternary"
           }
          ],
          "surface": [
           {
            "colorbar": {
             "outlinewidth": 0,
             "ticks": ""
            },
            "colorscale": [
             [
              0,
              "#0d0887"
             ],
             [
              0.1111111111111111,
              "#46039f"
             ],
             [
              0.2222222222222222,
              "#7201a8"
             ],
             [
              0.3333333333333333,
              "#9c179e"
             ],
             [
              0.4444444444444444,
              "#bd3786"
             ],
             [
              0.5555555555555556,
              "#d8576b"
             ],
             [
              0.6666666666666666,
              "#ed7953"
             ],
             [
              0.7777777777777778,
              "#fb9f3a"
             ],
             [
              0.8888888888888888,
              "#fdca26"
             ],
             [
              1,
              "#f0f921"
             ]
            ],
            "type": "surface"
           }
          ],
          "table": [
           {
            "cells": {
             "fill": {
              "color": "#EBF0F8"
             },
             "line": {
              "color": "white"
             }
            },
            "header": {
             "fill": {
              "color": "#C8D4E3"
             },
             "line": {
              "color": "white"
             }
            },
            "type": "table"
           }
          ]
         },
         "layout": {
          "annotationdefaults": {
           "arrowcolor": "#2a3f5f",
           "arrowhead": 0,
           "arrowwidth": 1
          },
          "autotypenumbers": "strict",
          "coloraxis": {
           "colorbar": {
            "outlinewidth": 0,
            "ticks": ""
           }
          },
          "colorscale": {
           "diverging": [
            [
             0,
             "#8e0152"
            ],
            [
             0.1,
             "#c51b7d"
            ],
            [
             0.2,
             "#de77ae"
            ],
            [
             0.3,
             "#f1b6da"
            ],
            [
             0.4,
             "#fde0ef"
            ],
            [
             0.5,
             "#f7f7f7"
            ],
            [
             0.6,
             "#e6f5d0"
            ],
            [
             0.7,
             "#b8e186"
            ],
            [
             0.8,
             "#7fbc41"
            ],
            [
             0.9,
             "#4d9221"
            ],
            [
             1,
             "#276419"
            ]
           ],
           "sequential": [
            [
             0,
             "#0d0887"
            ],
            [
             0.1111111111111111,
             "#46039f"
            ],
            [
             0.2222222222222222,
             "#7201a8"
            ],
            [
             0.3333333333333333,
             "#9c179e"
            ],
            [
             0.4444444444444444,
             "#bd3786"
            ],
            [
             0.5555555555555556,
             "#d8576b"
            ],
            [
             0.6666666666666666,
             "#ed7953"
            ],
            [
             0.7777777777777778,
             "#fb9f3a"
            ],
            [
             0.8888888888888888,
             "#fdca26"
            ],
            [
             1,
             "#f0f921"
            ]
           ],
           "sequentialminus": [
            [
             0,
             "#0d0887"
            ],
            [
             0.1111111111111111,
             "#46039f"
            ],
            [
             0.2222222222222222,
             "#7201a8"
            ],
            [
             0.3333333333333333,
             "#9c179e"
            ],
            [
             0.4444444444444444,
             "#bd3786"
            ],
            [
             0.5555555555555556,
             "#d8576b"
            ],
            [
             0.6666666666666666,
             "#ed7953"
            ],
            [
             0.7777777777777778,
             "#fb9f3a"
            ],
            [
             0.8888888888888888,
             "#fdca26"
            ],
            [
             1,
             "#f0f921"
            ]
           ]
          },
          "colorway": [
           "#636efa",
           "#EF553B",
           "#00cc96",
           "#ab63fa",
           "#FFA15A",
           "#19d3f3",
           "#FF6692",
           "#B6E880",
           "#FF97FF",
           "#FECB52"
          ],
          "font": {
           "color": "#2a3f5f"
          },
          "geo": {
           "bgcolor": "white",
           "lakecolor": "white",
           "landcolor": "#E5ECF6",
           "showlakes": true,
           "showland": true,
           "subunitcolor": "white"
          },
          "hoverlabel": {
           "align": "left"
          },
          "hovermode": "closest",
          "mapbox": {
           "style": "light"
          },
          "paper_bgcolor": "white",
          "plot_bgcolor": "#E5ECF6",
          "polar": {
           "angularaxis": {
            "gridcolor": "white",
            "linecolor": "white",
            "ticks": ""
           },
           "bgcolor": "#E5ECF6",
           "radialaxis": {
            "gridcolor": "white",
            "linecolor": "white",
            "ticks": ""
           }
          },
          "scene": {
           "xaxis": {
            "backgroundcolor": "#E5ECF6",
            "gridcolor": "white",
            "gridwidth": 2,
            "linecolor": "white",
            "showbackground": true,
            "ticks": "",
            "zerolinecolor": "white"
           },
           "yaxis": {
            "backgroundcolor": "#E5ECF6",
            "gridcolor": "white",
            "gridwidth": 2,
            "linecolor": "white",
            "showbackground": true,
            "ticks": "",
            "zerolinecolor": "white"
           },
           "zaxis": {
            "backgroundcolor": "#E5ECF6",
            "gridcolor": "white",
            "gridwidth": 2,
            "linecolor": "white",
            "showbackground": true,
            "ticks": "",
            "zerolinecolor": "white"
           }
          },
          "shapedefaults": {
           "line": {
            "color": "#2a3f5f"
           }
          },
          "ternary": {
           "aaxis": {
            "gridcolor": "white",
            "linecolor": "white",
            "ticks": ""
           },
           "baxis": {
            "gridcolor": "white",
            "linecolor": "white",
            "ticks": ""
           },
           "bgcolor": "#E5ECF6",
           "caxis": {
            "gridcolor": "white",
            "linecolor": "white",
            "ticks": ""
           }
          },
          "title": {
           "x": 0.05
          },
          "xaxis": {
           "automargin": true,
           "gridcolor": "white",
           "linecolor": "white",
           "ticks": "",
           "title": {
            "standoff": 15
           },
           "zerolinecolor": "white",
           "zerolinewidth": 2
          },
          "yaxis": {
           "automargin": true,
           "gridcolor": "white",
           "linecolor": "white",
           "ticks": "",
           "title": {
            "standoff": 15
           },
           "zerolinecolor": "white",
           "zerolinewidth": 2
          }
         }
        },
        "title": {
         "text": "Monthly Sentiment Score Over Time - Rolling Average"
        },
        "xaxis": {
         "anchor": "y",
         "domain": [
          0,
          1
         ],
         "title": {
          "text": "Time"
         }
        },
        "yaxis": {
         "anchor": "x",
         "domain": [
          0,
          1
         ],
         "title": {
          "text": "Average Sentiment Score"
         }
        }
       }
      }
     },
     "metadata": {},
     "output_type": "display_data"
    }
   ],
   "source": [
    "# rilter the data to include only dates from 2012 onwards\n",
    "df_filtered = df[df['created_at'].dt.year >= 2012]\n",
    "# Aggregate sentiment scores by week or month and calculate the mean\n",
    "# # For monthly average:\n",
    "monthly_sentiment = df_filtered.resample('M', on='created_at')['sentiment'].mean().reset_index()\n",
    "# Choose one of the above, then apply a rolling window\n",
    "rolling_window_size = 7  # 7 periods rolling average\n",
    "monthly_sentiment['rolling_sentiment'] = monthly_sentiment['sentiment'].rolling(window=rolling_window_size, min_periods=1).mean()\n",
    "\n",
    "# plotting monthly sentiment \n",
    "fig = px.line(monthly_sentiment, x='created_at', y='rolling_sentiment', title='Monthly Sentiment Score Over Time - Rolling Average')\n",
    "fig.update_xaxes(title_text='Time')\n",
    "fig.update_yaxes(title_text='Average Sentiment Score')\n",
    "fig.show()"
   ]
  },
  {
   "cell_type": "code",
   "execution_count": 65,
   "metadata": {},
   "outputs": [
    {
     "ename": "KeyError",
     "evalue": "'entities'",
     "output_type": "error",
     "traceback": [
      "\u001b[0;31m---------------------------------------------------------------------------\u001b[0m",
      "\u001b[0;31mKeyError\u001b[0m                                  Traceback (most recent call last)",
      "File \u001b[0;32m~/opt/anaconda3/envs/nlp-c/lib/python3.9/site-packages/pandas/core/indexes/base.py:3652\u001b[0m, in \u001b[0;36mIndex.get_loc\u001b[0;34m(self, key)\u001b[0m\n\u001b[1;32m   3651\u001b[0m \u001b[39mtry\u001b[39;00m:\n\u001b[0;32m-> 3652\u001b[0m     \u001b[39mreturn\u001b[39;00m \u001b[39mself\u001b[39;49m\u001b[39m.\u001b[39;49m_engine\u001b[39m.\u001b[39;49mget_loc(casted_key)\n\u001b[1;32m   3653\u001b[0m \u001b[39mexcept\u001b[39;00m \u001b[39mKeyError\u001b[39;00m \u001b[39mas\u001b[39;00m err:\n",
      "File \u001b[0;32m~/opt/anaconda3/envs/nlp-c/lib/python3.9/site-packages/pandas/_libs/index.pyx:147\u001b[0m, in \u001b[0;36mpandas._libs.index.IndexEngine.get_loc\u001b[0;34m()\u001b[0m\n",
      "File \u001b[0;32m~/opt/anaconda3/envs/nlp-c/lib/python3.9/site-packages/pandas/_libs/index.pyx:176\u001b[0m, in \u001b[0;36mpandas._libs.index.IndexEngine.get_loc\u001b[0;34m()\u001b[0m\n",
      "File \u001b[0;32mpandas/_libs/hashtable_class_helper.pxi:7080\u001b[0m, in \u001b[0;36mpandas._libs.hashtable.PyObjectHashTable.get_item\u001b[0;34m()\u001b[0m\n",
      "File \u001b[0;32mpandas/_libs/hashtable_class_helper.pxi:7088\u001b[0m, in \u001b[0;36mpandas._libs.hashtable.PyObjectHashTable.get_item\u001b[0;34m()\u001b[0m\n",
      "\u001b[0;31mKeyError\u001b[0m: 'entities'",
      "\nThe above exception was the direct cause of the following exception:\n",
      "\u001b[0;31mKeyError\u001b[0m                                  Traceback (most recent call last)",
      "Cell \u001b[0;32mIn[65], line 31\u001b[0m\n\u001b[1;32m     29\u001b[0m     \u001b[39mreturn\u001b[39;00m top_entities_df\n\u001b[1;32m     30\u001b[0m \u001b[39m# applying the function and visualizing the top entities\u001b[39;00m\n\u001b[0;32m---> 31\u001b[0m top_entities_df \u001b[39m=\u001b[39m most_frequent_entities(df)\n",
      "Cell \u001b[0;32mIn[65], line 12\u001b[0m, in \u001b[0;36mmost_frequent_entities\u001b[0;34m(df, column, top_n)\u001b[0m\n\u001b[1;32m      3\u001b[0m \u001b[39m\u001b[39m\u001b[39m\"\"\"\u001b[39;00m\n\u001b[1;32m      4\u001b[0m \u001b[39mFind and visualize the most frequent entities in a DataFrame.\u001b[39;00m\n\u001b[1;32m      5\u001b[0m \u001b[39mdf (pd.DataFrame): DataFrame containing the entities.\u001b[39;00m\n\u001b[0;32m   (...)\u001b[0m\n\u001b[1;32m      9\u001b[0m \u001b[39mpd.DataFrame: A DataFrame containing the top entities and their counts.\u001b[39;00m\n\u001b[1;32m     10\u001b[0m \u001b[39m\"\"\"\u001b[39;00m\n\u001b[1;32m     11\u001b[0m \u001b[39m# Flatten the list of entities\u001b[39;00m\n\u001b[0;32m---> 12\u001b[0m all_entities \u001b[39m=\u001b[39m [ent \u001b[39mfor\u001b[39;00m sublist \u001b[39min\u001b[39;00m df[column] \u001b[39mfor\u001b[39;00m ent \u001b[39min\u001b[39;00m sublist]\n\u001b[1;32m     13\u001b[0m \u001b[39m# Count the entities\u001b[39;00m\n\u001b[1;32m     14\u001b[0m entity_counts \u001b[39m=\u001b[39m Counter(all_entities)\n",
      "File \u001b[0;32m~/opt/anaconda3/envs/nlp-c/lib/python3.9/site-packages/pandas/core/frame.py:3761\u001b[0m, in \u001b[0;36mDataFrame.__getitem__\u001b[0;34m(self, key)\u001b[0m\n\u001b[1;32m   3759\u001b[0m \u001b[39mif\u001b[39;00m \u001b[39mself\u001b[39m\u001b[39m.\u001b[39mcolumns\u001b[39m.\u001b[39mnlevels \u001b[39m>\u001b[39m \u001b[39m1\u001b[39m:\n\u001b[1;32m   3760\u001b[0m     \u001b[39mreturn\u001b[39;00m \u001b[39mself\u001b[39m\u001b[39m.\u001b[39m_getitem_multilevel(key)\n\u001b[0;32m-> 3761\u001b[0m indexer \u001b[39m=\u001b[39m \u001b[39mself\u001b[39;49m\u001b[39m.\u001b[39;49mcolumns\u001b[39m.\u001b[39;49mget_loc(key)\n\u001b[1;32m   3762\u001b[0m \u001b[39mif\u001b[39;00m is_integer(indexer):\n\u001b[1;32m   3763\u001b[0m     indexer \u001b[39m=\u001b[39m [indexer]\n",
      "File \u001b[0;32m~/opt/anaconda3/envs/nlp-c/lib/python3.9/site-packages/pandas/core/indexes/base.py:3654\u001b[0m, in \u001b[0;36mIndex.get_loc\u001b[0;34m(self, key)\u001b[0m\n\u001b[1;32m   3652\u001b[0m     \u001b[39mreturn\u001b[39;00m \u001b[39mself\u001b[39m\u001b[39m.\u001b[39m_engine\u001b[39m.\u001b[39mget_loc(casted_key)\n\u001b[1;32m   3653\u001b[0m \u001b[39mexcept\u001b[39;00m \u001b[39mKeyError\u001b[39;00m \u001b[39mas\u001b[39;00m err:\n\u001b[0;32m-> 3654\u001b[0m     \u001b[39mraise\u001b[39;00m \u001b[39mKeyError\u001b[39;00m(key) \u001b[39mfrom\u001b[39;00m \u001b[39merr\u001b[39;00m\n\u001b[1;32m   3655\u001b[0m \u001b[39mexcept\u001b[39;00m \u001b[39mTypeError\u001b[39;00m:\n\u001b[1;32m   3656\u001b[0m     \u001b[39m# If we have a listlike key, _check_indexing_error will raise\u001b[39;00m\n\u001b[1;32m   3657\u001b[0m     \u001b[39m#  InvalidIndexError. Otherwise we fall through and re-raise\u001b[39;00m\n\u001b[1;32m   3658\u001b[0m     \u001b[39m#  the TypeError.\u001b[39;00m\n\u001b[1;32m   3659\u001b[0m     \u001b[39mself\u001b[39m\u001b[39m.\u001b[39m_check_indexing_error(key)\n",
      "\u001b[0;31mKeyError\u001b[0m: 'entities'"
     ]
    }
   ],
   "source": [
    "# function to identify the top entities with the NER column created\n",
    "def most_frequent_entities(df, column='entities', top_n=20):\n",
    "    \"\"\"\n",
    "    Find and visualize the most frequent entities in a DataFrame.\n",
    "    df (pd.DataFrame): DataFrame containing the entities.\n",
    "    column (str): The name of the column in df that contains the entities.\n",
    "    top_n (int): The number of top entities to return.\n",
    "    Returns:\n",
    "    pd.DataFrame: A DataFrame containing the top entities and their counts.\n",
    "    \"\"\"\n",
    "    # Flatten the list of entities\n",
    "    all_entities = [ent for sublist in df[column] for ent in sublist]\n",
    "    # Count the entities\n",
    "    entity_counts = Counter(all_entities)\n",
    "    # Get the top n entities\n",
    "    top_entities = entity_counts.most_common(top_n)\n",
    "    # Convert to DataFrame for better visualization\n",
    "    top_entities_df = pd.DataFrame(top_entities, columns=['Entity', 'Count'])\n",
    "    \n",
    "    # Plotting\n",
    "    plt.figure(figsize=(10, 8))\n",
    "    sns.barplot(x='Count', y='Entity', data=top_entities_df)\n",
    "    plt.title(f'Top {top_n} Most Frequent Entities')\n",
    "    plt.xlabel('Count')\n",
    "    plt.ylabel('Entities')\n",
    "    plt.tight_layout()\n",
    "    plt.show()\n",
    "\n",
    "    return top_entities_df\n",
    "# applying the function and visualizing the top entities\n",
    "top_entities_df = most_frequent_entities(df)"
   ]
  },
  {
   "cell_type": "code",
   "execution_count": null,
   "metadata": {},
   "outputs": [],
   "source": [
    "# add functionality to save both inbound and outbound tweets wordclouds for model training later\n",
    "# generate word clouds functiion \n",
    "def generate_word_clouds_for_inbound_outbound(df):\n",
    "    inbound_text = ' '.join(df[df['inbound']]['processed_text'].dropna())\n",
    "    outbound_text = ' '.join(df[~df['inbound']]['processed_text'].dropna())\n",
    "\n",
    "    for text, title in zip([inbound_text, outbound_text], ['Inbound Tweets', 'Outbound Tweets']):\n",
    "        wordcloud = WordCloud(stopwords=STOPWORDS, background_color='white', width=800, height=400).generate(text)\n",
    "        plt.figure(figsize=(10, 5))\n",
    "        plt.imshow(wordcloud, interpolation='bilinear')\n",
    "        plt.title(title)\n",
    "        plt.axis('off')\n",
    "        plt.show()\n",
    "    return wordcloud\n",
    "\n",
    "# applying the function\n",
    "generate_word_clouds_for_inbound_outbound(df)"
   ]
  },
  {
   "cell_type": "code",
   "execution_count": null,
   "metadata": {},
   "outputs": [],
   "source": [
    "# performing topic modeling \n",
    "def find_optimal_number_of_topics(dictionary, corpus, texts, limit, start=2, step=3):\n",
    "    \"\"\"\n",
    "    Find the optimal number of topics for LDA using coherence scores.\n",
    "\n",
    "    Parameters:\n",
    "    dictionary (gensim.corpora.Dictionary): Gensim dictionary object from the text data.\n",
    "    corpus (list): Corpus in Gensim bag-of-words format.\n",
    "    texts (list of list of str): Tokenized and preprocessed text data.\n",
    "    limit (int): The maximum number of topics to test.\n",
    "    start (int, optional): The minimum number of topics to test. Defaults to 2.\n",
    "    step (int, optional): The step size to iterate through the number of topics. Defaults to 3.\n",
    "\n",
    "    Returns:\n",
    "    gensim.models.LdaModel: The LDA model with the optimal number of topics.\n",
    "    \"\"\"\n",
    "    coherence_values = []\n",
    "    model_list = []\n",
    "    for num_topics in range(start, limit, step):\n",
    "        model = LdaModel(corpus=corpus, num_topics=num_topics, id2word=dictionary)\n",
    "        model_list.append(model)\n",
    "        coherencemodel = CoherenceModel(model=model, texts=texts, dictionary=dictionary, coherence='c_v')\n",
    "        coherence_values.append(coherencemodel.get_coherence())\n",
    "\n",
    "    # Return the model with the highest coherence score\n",
    "    return model_list[coherence_values.index(max(coherence_values))]"
   ]
  },
  {
   "cell_type": "code",
   "execution_count": null,
   "metadata": {},
   "outputs": [],
   "source": [
    "def perform_topic_modeling(df, num_words=5):\n",
    "    \"\"\"\n",
    "    Perform topic modeling on the dataset using Latent Dirichlet Allocation (LDA).\n",
    "\n",
    "    This function first determines the optimal number of topics based on coherence scores and\n",
    "    then applies LDA to extract topics from the text data.\n",
    "\n",
    "    Parameters:\n",
    "    df (pandas.DataFrame): DataFrame containing the text data.\n",
    "    num_words (int, optional): The number of words to display for each topic. Defaults to 5.\n",
    "\n",
    "    Returns:\n",
    "    tuple: A tuple containing the LDA model and the DataFrame with an additional 'topic' column.\n",
    "    \"\"\"\n",
    "    text_data = [text.split() for text in df['processed_text'].dropna()]\n",
    "    dictionary = corpora.Dictionary(text_data)\n",
    "    corpus = [dictionary.doc2bow(text) for text in text_data]\n",
    "\n",
    "    # Find the optimal model\n",
    "    optimal_lda_model = find_optimal_number_of_topics(dictionary, corpus, text_data, limit=20)\n",
    "    num_topics = optimal_lda_model.num_topics\n",
    "\n",
    "    # Displaying topics\n",
    "    topics = optimal_lda_model.print_topics(num_words=num_words)\n",
    "    for topic in topics:\n",
    "        print(topic)\n",
    "\n",
    "    # Assigning topics to each tweet\n",
    "    df['topic'] = [max(optimal_lda_model[corpus[i]], key=lambda x: x[1])[0] for i in range(len(corpus))]\n",
    "\n",
    "    return optimal_lda_model, df"
   ]
  }
 ],
 "metadata": {
  "kernelspec": {
   "display_name": "nlp-c",
   "language": "python",
   "name": "python3"
  },
  "language_info": {
   "codemirror_mode": {
    "name": "ipython",
    "version": 3
   },
   "file_extension": ".py",
   "mimetype": "text/x-python",
   "name": "python",
   "nbconvert_exporter": "python",
   "pygments_lexer": "ipython3",
   "version": "3.9.16"
  },
  "orig_nbformat": 4
 },
 "nbformat": 4,
 "nbformat_minor": 2
}
